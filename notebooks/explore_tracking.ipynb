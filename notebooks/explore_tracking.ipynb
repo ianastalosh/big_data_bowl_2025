{
 "cells": [
  {
   "cell_type": "code",
   "execution_count": 1,
   "metadata": {},
   "outputs": [],
   "source": [
    "import os\n",
    "import sys\n",
    "import logging\n",
    "\n",
    "project_path = os.path.abspath('../') \n",
    "sys.path.append(project_path)\n",
    "\n",
    "\n",
    "logging.basicConfig(\n",
    "    level=logging.INFO,\n",
    "    format='%(asctime)s - %(levelname)s - %(message)s',\n",
    "    handlers=[\n",
    "        logging.FileHandler('notebook.log'),  # Log to a file specific to the notebook\n",
    "        logging.StreamHandler()                 # Log to console\n",
    "    ]\n",
    ")\n"
   ]
  },
  {
   "cell_type": "code",
   "execution_count": 2,
   "metadata": {},
   "outputs": [],
   "source": [
    "from src.preprocessing import *"
   ]
  },
  {
   "cell_type": "code",
   "execution_count": 3,
   "metadata": {},
   "outputs": [],
   "source": [
    "tracking_files = [\"../data/tracking_week_1.csv\"]"
   ]
  },
  {
   "cell_type": "code",
   "execution_count": 4,
   "metadata": {},
   "outputs": [],
   "source": [
    "week1_tracking = TrackingDataProcessor(tracking_files)"
   ]
  },
  {
   "cell_type": "code",
   "execution_count": 5,
   "metadata": {},
   "outputs": [
    {
     "name": "stderr",
     "output_type": "stream",
     "text": [
      "2024-10-12 06:22:03,760 - root - INFO - Loaded file ../data/tracking_week_1.csv\n",
      "2024-10-12 06:22:03,854 - root - INFO - Total dataframe has shape: (7104700, 18)\n"
     ]
    }
   ],
   "source": [
    "week1_tracking.load_tracking_data()"
   ]
  },
  {
   "cell_type": "code",
   "execution_count": 6,
   "metadata": {},
   "outputs": [
    {
     "data": {
      "text/html": [
       "<div><style>\n",
       ".dataframe > thead > tr,\n",
       ".dataframe > tbody > tr {\n",
       "  text-align: right;\n",
       "  white-space: pre-wrap;\n",
       "}\n",
       "</style>\n",
       "<small>shape: (5, 18)</small><table border=\"1\" class=\"dataframe\"><thead><tr><th>gameId</th><th>playId</th><th>nflId</th><th>displayName</th><th>frameId</th><th>frameType</th><th>time</th><th>jerseyNumber</th><th>club</th><th>playDirection</th><th>x</th><th>y</th><th>s</th><th>a</th><th>dis</th><th>o</th><th>dir</th><th>event</th></tr><tr><td>i64</td><td>i64</td><td>i64</td><td>str</td><td>i64</td><td>str</td><td>str</td><td>i64</td><td>str</td><td>str</td><td>f64</td><td>f64</td><td>f64</td><td>f64</td><td>f64</td><td>f64</td><td>f64</td><td>str</td></tr></thead><tbody><tr><td>2022091200</td><td>64</td><td>35459</td><td>&quot;Kareem Jackson&quot;</td><td>1</td><td>&quot;BEFORE_SNAP&quot;</td><td>&quot;2022-09-13 00:16:03.5&quot;</td><td>22</td><td>&quot;DEN&quot;</td><td>&quot;right&quot;</td><td>51.06</td><td>28.55</td><td>0.72</td><td>0.37</td><td>0.07</td><td>246.17</td><td>68.34</td><td>&quot;huddle_break_offense&quot;</td></tr><tr><td>2022091200</td><td>64</td><td>35459</td><td>&quot;Kareem Jackson&quot;</td><td>2</td><td>&quot;BEFORE_SNAP&quot;</td><td>&quot;2022-09-13 00:16:03.6&quot;</td><td>22</td><td>&quot;DEN&quot;</td><td>&quot;right&quot;</td><td>51.13</td><td>28.57</td><td>0.71</td><td>0.36</td><td>0.07</td><td>245.41</td><td>71.21</td><td>&quot;NA&quot;</td></tr><tr><td>2022091200</td><td>64</td><td>35459</td><td>&quot;Kareem Jackson&quot;</td><td>3</td><td>&quot;BEFORE_SNAP&quot;</td><td>&quot;2022-09-13 00:16:03.7&quot;</td><td>22</td><td>&quot;DEN&quot;</td><td>&quot;right&quot;</td><td>51.2</td><td>28.59</td><td>0.69</td><td>0.23</td><td>0.07</td><td>244.45</td><td>69.9</td><td>&quot;NA&quot;</td></tr><tr><td>2022091200</td><td>64</td><td>35459</td><td>&quot;Kareem Jackson&quot;</td><td>4</td><td>&quot;BEFORE_SNAP&quot;</td><td>&quot;2022-09-13 00:16:03.8&quot;</td><td>22</td><td>&quot;DEN&quot;</td><td>&quot;right&quot;</td><td>51.26</td><td>28.62</td><td>0.67</td><td>0.22</td><td>0.07</td><td>244.45</td><td>67.98</td><td>&quot;NA&quot;</td></tr><tr><td>2022091200</td><td>64</td><td>35459</td><td>&quot;Kareem Jackson&quot;</td><td>5</td><td>&quot;BEFORE_SNAP&quot;</td><td>&quot;2022-09-13 00:16:03.9&quot;</td><td>22</td><td>&quot;DEN&quot;</td><td>&quot;right&quot;</td><td>51.32</td><td>28.65</td><td>0.65</td><td>0.34</td><td>0.07</td><td>245.74</td><td>62.83</td><td>&quot;NA&quot;</td></tr></tbody></table></div>"
      ],
      "text/plain": [
       "shape: (5, 18)\n",
       "┌────────────┬────────┬───────┬────────────────┬───┬──────┬────────┬───────┬──────────────────────┐\n",
       "│ gameId     ┆ playId ┆ nflId ┆ displayName    ┆ … ┆ dis  ┆ o      ┆ dir   ┆ event                │\n",
       "│ ---        ┆ ---    ┆ ---   ┆ ---            ┆   ┆ ---  ┆ ---    ┆ ---   ┆ ---                  │\n",
       "│ i64        ┆ i64    ┆ i64   ┆ str            ┆   ┆ f64  ┆ f64    ┆ f64   ┆ str                  │\n",
       "╞════════════╪════════╪═══════╪════════════════╪═══╪══════╪════════╪═══════╪══════════════════════╡\n",
       "│ 2022091200 ┆ 64     ┆ 35459 ┆ Kareem Jackson ┆ … ┆ 0.07 ┆ 246.17 ┆ 68.34 ┆ huddle_break_offense │\n",
       "│ 2022091200 ┆ 64     ┆ 35459 ┆ Kareem Jackson ┆ … ┆ 0.07 ┆ 245.41 ┆ 71.21 ┆ NA                   │\n",
       "│ 2022091200 ┆ 64     ┆ 35459 ┆ Kareem Jackson ┆ … ┆ 0.07 ┆ 244.45 ┆ 69.9  ┆ NA                   │\n",
       "│ 2022091200 ┆ 64     ┆ 35459 ┆ Kareem Jackson ┆ … ┆ 0.07 ┆ 244.45 ┆ 67.98 ┆ NA                   │\n",
       "│ 2022091200 ┆ 64     ┆ 35459 ┆ Kareem Jackson ┆ … ┆ 0.07 ┆ 245.74 ┆ 62.83 ┆ NA                   │\n",
       "└────────────┴────────┴───────┴────────────────┴───┴──────┴────────┴───────┴──────────────────────┘"
      ]
     },
     "execution_count": 6,
     "metadata": {},
     "output_type": "execute_result"
    }
   ],
   "source": [
    "week1_tracking.tracking_data.head()"
   ]
  },
  {
   "cell_type": "code",
   "execution_count": null,
   "metadata": {},
   "outputs": [],
   "source": []
  }
 ],
 "metadata": {
  "kernelspec": {
   "display_name": ".venv",
   "language": "python",
   "name": "python3"
  },
  "language_info": {
   "codemirror_mode": {
    "name": "ipython",
    "version": 3
   },
   "file_extension": ".py",
   "mimetype": "text/x-python",
   "name": "python",
   "nbconvert_exporter": "python",
   "pygments_lexer": "ipython3",
   "version": "3.12.1"
  }
 },
 "nbformat": 4,
 "nbformat_minor": 2
}
