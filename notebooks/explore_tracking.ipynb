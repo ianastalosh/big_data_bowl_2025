{
 "cells": [
  {
   "cell_type": "code",
   "execution_count": 1,
   "metadata": {},
   "outputs": [],
   "source": [
    "import os\n",
    "import sys\n",
    "import logging\n",
    "import polars as pl\n",
    "\n",
    "project_path = os.path.abspath('../') \n",
    "sys.path.append(project_path)\n"
   ]
  },
  {
   "cell_type": "code",
   "execution_count": 2,
   "metadata": {},
   "outputs": [],
   "source": [
    "tracking_file = \"../data/tracking_week_1.csv\"\n",
    "lazy_df = pl.scan_csv(tracking_file, ignore_errors=True)"
   ]
  },
  {
   "cell_type": "code",
   "execution_count": 3,
   "metadata": {},
   "outputs": [
    {
     "data": {
      "text/html": [
       "<div><style>\n",
       ".dataframe > thead > tr,\n",
       ".dataframe > tbody > tr {\n",
       "  text-align: right;\n",
       "  white-space: pre-wrap;\n",
       "}\n",
       "</style>\n",
       "<small>shape: (5, 18)</small><table border=\"1\" class=\"dataframe\"><thead><tr><th>gameId</th><th>playId</th><th>nflId</th><th>displayName</th><th>frameId</th><th>frameType</th><th>time</th><th>jerseyNumber</th><th>club</th><th>playDirection</th><th>x</th><th>y</th><th>s</th><th>a</th><th>dis</th><th>o</th><th>dir</th><th>event</th></tr><tr><td>i64</td><td>i64</td><td>i64</td><td>str</td><td>i64</td><td>str</td><td>str</td><td>i64</td><td>str</td><td>str</td><td>f64</td><td>f64</td><td>f64</td><td>f64</td><td>f64</td><td>f64</td><td>f64</td><td>str</td></tr></thead><tbody><tr><td>2022091200</td><td>64</td><td>35459</td><td>&quot;Kareem Jackson&quot;</td><td>1</td><td>&quot;BEFORE_SNAP&quot;</td><td>&quot;2022-09-13 00:16:03.5&quot;</td><td>22</td><td>&quot;DEN&quot;</td><td>&quot;right&quot;</td><td>51.06</td><td>28.55</td><td>0.72</td><td>0.37</td><td>0.07</td><td>246.17</td><td>68.34</td><td>&quot;huddle_break_offense&quot;</td></tr><tr><td>2022091200</td><td>64</td><td>35459</td><td>&quot;Kareem Jackson&quot;</td><td>2</td><td>&quot;BEFORE_SNAP&quot;</td><td>&quot;2022-09-13 00:16:03.6&quot;</td><td>22</td><td>&quot;DEN&quot;</td><td>&quot;right&quot;</td><td>51.13</td><td>28.57</td><td>0.71</td><td>0.36</td><td>0.07</td><td>245.41</td><td>71.21</td><td>&quot;NA&quot;</td></tr><tr><td>2022091200</td><td>64</td><td>35459</td><td>&quot;Kareem Jackson&quot;</td><td>3</td><td>&quot;BEFORE_SNAP&quot;</td><td>&quot;2022-09-13 00:16:03.7&quot;</td><td>22</td><td>&quot;DEN&quot;</td><td>&quot;right&quot;</td><td>51.2</td><td>28.59</td><td>0.69</td><td>0.23</td><td>0.07</td><td>244.45</td><td>69.9</td><td>&quot;NA&quot;</td></tr><tr><td>2022091200</td><td>64</td><td>35459</td><td>&quot;Kareem Jackson&quot;</td><td>4</td><td>&quot;BEFORE_SNAP&quot;</td><td>&quot;2022-09-13 00:16:03.8&quot;</td><td>22</td><td>&quot;DEN&quot;</td><td>&quot;right&quot;</td><td>51.26</td><td>28.62</td><td>0.67</td><td>0.22</td><td>0.07</td><td>244.45</td><td>67.98</td><td>&quot;NA&quot;</td></tr><tr><td>2022091200</td><td>64</td><td>35459</td><td>&quot;Kareem Jackson&quot;</td><td>5</td><td>&quot;BEFORE_SNAP&quot;</td><td>&quot;2022-09-13 00:16:03.9&quot;</td><td>22</td><td>&quot;DEN&quot;</td><td>&quot;right&quot;</td><td>51.32</td><td>28.65</td><td>0.65</td><td>0.34</td><td>0.07</td><td>245.74</td><td>62.83</td><td>&quot;NA&quot;</td></tr></tbody></table></div>"
      ],
      "text/plain": [
       "shape: (5, 18)\n",
       "┌────────────┬────────┬───────┬────────────────┬───┬──────┬────────┬───────┬──────────────────────┐\n",
       "│ gameId     ┆ playId ┆ nflId ┆ displayName    ┆ … ┆ dis  ┆ o      ┆ dir   ┆ event                │\n",
       "│ ---        ┆ ---    ┆ ---   ┆ ---            ┆   ┆ ---  ┆ ---    ┆ ---   ┆ ---                  │\n",
       "│ i64        ┆ i64    ┆ i64   ┆ str            ┆   ┆ f64  ┆ f64    ┆ f64   ┆ str                  │\n",
       "╞════════════╪════════╪═══════╪════════════════╪═══╪══════╪════════╪═══════╪══════════════════════╡\n",
       "│ 2022091200 ┆ 64     ┆ 35459 ┆ Kareem Jackson ┆ … ┆ 0.07 ┆ 246.17 ┆ 68.34 ┆ huddle_break_offense │\n",
       "│ 2022091200 ┆ 64     ┆ 35459 ┆ Kareem Jackson ┆ … ┆ 0.07 ┆ 245.41 ┆ 71.21 ┆ NA                   │\n",
       "│ 2022091200 ┆ 64     ┆ 35459 ┆ Kareem Jackson ┆ … ┆ 0.07 ┆ 244.45 ┆ 69.9  ┆ NA                   │\n",
       "│ 2022091200 ┆ 64     ┆ 35459 ┆ Kareem Jackson ┆ … ┆ 0.07 ┆ 244.45 ┆ 67.98 ┆ NA                   │\n",
       "│ 2022091200 ┆ 64     ┆ 35459 ┆ Kareem Jackson ┆ … ┆ 0.07 ┆ 245.74 ┆ 62.83 ┆ NA                   │\n",
       "└────────────┴────────┴───────┴────────────────┴───┴──────┴────────┴───────┴──────────────────────┘"
      ]
     },
     "execution_count": 3,
     "metadata": {},
     "output_type": "execute_result"
    }
   ],
   "source": [
    "lazy_df.collect().head(5)"
   ]
  },
  {
   "cell_type": "code",
   "execution_count": 4,
   "metadata": {},
   "outputs": [
    {
     "data": {
      "text/html": [
       "<div><style>\n",
       ".dataframe > thead > tr,\n",
       ".dataframe > tbody > tr {\n",
       "  text-align: right;\n",
       "  white-space: pre-wrap;\n",
       "}\n",
       "</style>\n",
       "<small>shape: (5, 1)</small><table border=\"1\" class=\"dataframe\"><thead><tr><th>gameId</th></tr><tr><td>i64</td></tr></thead><tbody><tr><td>2022091200</td></tr><tr><td>2022091200</td></tr><tr><td>2022091200</td></tr><tr><td>2022091200</td></tr><tr><td>2022091200</td></tr></tbody></table></div>"
      ],
      "text/plain": [
       "shape: (5, 1)\n",
       "┌────────────┐\n",
       "│ gameId     │\n",
       "│ ---        │\n",
       "│ i64        │\n",
       "╞════════════╡\n",
       "│ 2022091200 │\n",
       "│ 2022091200 │\n",
       "│ 2022091200 │\n",
       "│ 2022091200 │\n",
       "│ 2022091200 │\n",
       "└────────────┘"
      ]
     },
     "execution_count": 4,
     "metadata": {},
     "output_type": "execute_result"
    }
   ],
   "source": [
    "# See an individual column\n",
    "lazy_df.select(pl.col(\"gameId\")).collect().head(5)"
   ]
  },
  {
   "cell_type": "code",
   "execution_count": 5,
   "metadata": {},
   "outputs": [
    {
     "data": {
      "text/html": [
       "<div><style>\n",
       ".dataframe > thead > tr,\n",
       ".dataframe > tbody > tr {\n",
       "  text-align: right;\n",
       "  white-space: pre-wrap;\n",
       "}\n",
       "</style>\n",
       "<small>shape: (1, 1)</small><table border=\"1\" class=\"dataframe\"><thead><tr><th>gameId</th></tr><tr><td>u32</td></tr></thead><tbody><tr><td>16</td></tr></tbody></table></div>"
      ],
      "text/plain": [
       "shape: (1, 1)\n",
       "┌────────┐\n",
       "│ gameId │\n",
       "│ ---    │\n",
       "│ u32    │\n",
       "╞════════╡\n",
       "│ 16     │\n",
       "└────────┘"
      ]
     },
     "execution_count": 5,
     "metadata": {},
     "output_type": "execute_result"
    }
   ],
   "source": [
    "# Count unique values in a column\n",
    "lazy_df.select(pl.col(\"gameId\").n_unique()).collect()"
   ]
  },
  {
   "cell_type": "code",
   "execution_count": 6,
   "metadata": {},
   "outputs": [
    {
     "data": {
      "text/html": [
       "<div><style>\n",
       ".dataframe > thead > tr,\n",
       ".dataframe > tbody > tr {\n",
       "  text-align: right;\n",
       "  white-space: pre-wrap;\n",
       "}\n",
       "</style>\n",
       "<small>shape: (5, 1)</small><table border=\"1\" class=\"dataframe\"><thead><tr><th>gamePlayId</th></tr><tr><td>str</td></tr></thead><tbody><tr><td>&quot;2022091200-64&quot;</td></tr><tr><td>&quot;2022091200-64&quot;</td></tr><tr><td>&quot;2022091200-64&quot;</td></tr><tr><td>&quot;2022091200-64&quot;</td></tr><tr><td>&quot;2022091200-64&quot;</td></tr></tbody></table></div>"
      ],
      "text/plain": [
       "shape: (5, 1)\n",
       "┌───────────────┐\n",
       "│ gamePlayId    │\n",
       "│ ---           │\n",
       "│ str           │\n",
       "╞═══════════════╡\n",
       "│ 2022091200-64 │\n",
       "│ 2022091200-64 │\n",
       "│ 2022091200-64 │\n",
       "│ 2022091200-64 │\n",
       "│ 2022091200-64 │\n",
       "└───────────────┘"
      ]
     },
     "execution_count": 6,
     "metadata": {},
     "output_type": "execute_result"
    }
   ],
   "source": [
    "# Practice creating features\n",
    "new_lazy_df = lazy_df.with_columns(\n",
    "    (pl.col(\"gameId\").cast(pl.Utf8) + \"-\" + pl.col(\"playId\").cast(pl.Utf8)).alias(\"gamePlayId\"),\n",
    ")\n",
    "\n",
    "new_lazy_df.select(pl.col(\"gamePlayId\")).head(5).collect()"
   ]
  },
  {
   "cell_type": "code",
   "execution_count": 19,
   "metadata": {},
   "outputs": [
    {
     "data": {
      "text/html": [
       "<div><style>\n",
       ".dataframe > thead > tr,\n",
       ".dataframe > tbody > tr {\n",
       "  text-align: right;\n",
       "  white-space: pre-wrap;\n",
       "}\n",
       "</style>\n",
       "<small>shape: (9, 19)</small><table border=\"1\" class=\"dataframe\"><thead><tr><th>statistic</th><th>gameId</th><th>playId</th><th>nflId</th><th>displayName</th><th>frameId</th><th>frameType</th><th>time</th><th>jerseyNumber</th><th>club</th><th>playDirection</th><th>x</th><th>y</th><th>s</th><th>a</th><th>dis</th><th>o</th><th>dir</th><th>event</th></tr><tr><td>str</td><td>f64</td><td>f64</td><td>f64</td><td>str</td><td>f64</td><td>str</td><td>str</td><td>f64</td><td>str</td><td>str</td><td>f64</td><td>f64</td><td>f64</td><td>f64</td><td>f64</td><td>f64</td><td>f64</td><td>str</td></tr></thead><tbody><tr><td>&quot;count&quot;</td><td>7.1047e6</td><td>7.1047e6</td><td>6.7958e6</td><td>&quot;7104700&quot;</td><td>7.1047e6</td><td>&quot;7104700&quot;</td><td>&quot;7104700&quot;</td><td>6.7958e6</td><td>&quot;7104700&quot;</td><td>&quot;7104700&quot;</td><td>7.1047e6</td><td>7.1047e6</td><td>7.1047e6</td><td>7.1047e6</td><td>7.1047e6</td><td>6.796189e6</td><td>6.796189e6</td><td>&quot;7104700&quot;</td></tr><tr><td>&quot;null_count&quot;</td><td>0.0</td><td>0.0</td><td>308900.0</td><td>&quot;0&quot;</td><td>0.0</td><td>&quot;0&quot;</td><td>&quot;0&quot;</td><td>308900.0</td><td>&quot;0&quot;</td><td>&quot;0&quot;</td><td>0.0</td><td>0.0</td><td>0.0</td><td>0.0</td><td>0.0</td><td>308511.0</td><td>308511.0</td><td>&quot;0&quot;</td></tr><tr><td>&quot;mean&quot;</td><td>2.0221e9</td><td>2024.279479</td><td>47186.246824</td><td>null</td><td>86.931638</td><td>null</td><td>null</td><td>48.085401</td><td>null</td><td>null</td><td>60.879362</td><td>26.827261</td><td>1.35918</td><td>0.944097</td><td>0.138966</td><td>179.167794</td><td>179.876064</td><td>null</td></tr><tr><td>&quot;std&quot;</td><td>76.935441</td><td>1227.633551</td><td>5050.181773</td><td>null</td><td>59.015544</td><td>null</td><td>null</td><td>30.816479</td><td>null</td><td>null</td><td>24.56882</td><td>7.696377</td><td>1.889584</td><td>1.194888</td><td>0.194576</td><td>97.531888</td><td>104.488126</td><td>null</td></tr><tr><td>&quot;min&quot;</td><td>2.0221e9</td><td>55.0</td><td>25511.0</td><td>&quot;A&#x27;Shawn Robinson&quot;</td><td>1.0</td><td>&quot;AFTER_SNAP&quot;</td><td>&quot;2022-09-09 00:23:48.2&quot;</td><td>1.0</td><td>&quot;ARI&quot;</td><td>&quot;left&quot;</td><td>-5.06</td><td>-8.94</td><td>0.0</td><td>0.0</td><td>0.0</td><td>0.0</td><td>0.0</td><td>&quot;NA&quot;</td></tr><tr><td>&quot;25%&quot;</td><td>2.0221e9</td><td>955.0</td><td>43384.0</td><td>null</td><td>40.0</td><td>null</td><td>null</td><td>21.0</td><td>null</td><td>null</td><td>41.1</td><td>22.44</td><td>0.06</td><td>0.06</td><td>0.01</td><td>89.33</td><td>89.66</td><td>null</td></tr><tr><td>&quot;50%&quot;</td><td>2.0221e9</td><td>1995.0</td><td>46214.0</td><td>null</td><td>81.0</td><td>null</td><td>null</td><td>51.0</td><td>null</td><td>null</td><td>61.14</td><td>26.82</td><td>0.56</td><td>0.53</td><td>0.06</td><td>177.32</td><td>179.65</td><td>null</td></tr><tr><td>&quot;75%&quot;</td><td>2.0221e9</td><td>3043.0</td><td>52498.0</td><td>null</td><td>126.0</td><td>null</td><td>null</td><td>75.0</td><td>null</td><td>null</td><td>80.26</td><td>31.19</td><td>1.96</td><td>1.35</td><td>0.2</td><td>269.22</td><td>270.35</td><td>null</td></tr><tr><td>&quot;max&quot;</td><td>2.0221e9</td><td>5120.0</td><td>55173.0</td><td>&quot;football&quot;</td><td>697.0</td><td>&quot;SNAP&quot;</td><td>&quot;2022-09-13 03:11:56.3&quot;</td><td>99.0</td><td>&quot;football&quot;</td><td>&quot;right&quot;</td><td>125.599998</td><td>69.470001</td><td>29.139999</td><td>56.580002</td><td>7.63</td><td>360.0</td><td>360.0</td><td>&quot;touchdown&quot;</td></tr></tbody></table></div>"
      ],
      "text/plain": [
       "shape: (9, 19)\n",
       "┌───────────┬───────────┬───────────┬───────────┬───┬──────────┬───────────┬───────────┬───────────┐\n",
       "│ statistic ┆ gameId    ┆ playId    ┆ nflId     ┆ … ┆ dis      ┆ o         ┆ dir       ┆ event     │\n",
       "│ ---       ┆ ---       ┆ ---       ┆ ---       ┆   ┆ ---      ┆ ---       ┆ ---       ┆ ---       │\n",
       "│ str       ┆ f64       ┆ f64       ┆ f64       ┆   ┆ f64      ┆ f64       ┆ f64       ┆ str       │\n",
       "╞═══════════╪═══════════╪═══════════╪═══════════╪═══╪══════════╪═══════════╪═══════════╪═══════════╡\n",
       "│ count     ┆ 7.1047e6  ┆ 7.1047e6  ┆ 6.7958e6  ┆ … ┆ 7.1047e6 ┆ 6.796189e ┆ 6.796189e ┆ 7104700   │\n",
       "│           ┆           ┆           ┆           ┆   ┆          ┆ 6         ┆ 6         ┆           │\n",
       "│ null_coun ┆ 0.0       ┆ 0.0       ┆ 308900.0  ┆ … ┆ 0.0      ┆ 308511.0  ┆ 308511.0  ┆ 0         │\n",
       "│ t         ┆           ┆           ┆           ┆   ┆          ┆           ┆           ┆           │\n",
       "│ mean      ┆ 2.0221e9  ┆ 2024.2794 ┆ 47186.246 ┆ … ┆ 0.138966 ┆ 179.16779 ┆ 179.87606 ┆ null      │\n",
       "│           ┆           ┆ 79        ┆ 824       ┆   ┆          ┆ 4         ┆ 4         ┆           │\n",
       "│ std       ┆ 76.935441 ┆ 1227.6335 ┆ 5050.1817 ┆ … ┆ 0.194576 ┆ 97.531888 ┆ 104.48812 ┆ null      │\n",
       "│           ┆           ┆ 51        ┆ 73        ┆   ┆          ┆           ┆ 6         ┆           │\n",
       "│ min       ┆ 2.0221e9  ┆ 55.0      ┆ 25511.0   ┆ … ┆ 0.0      ┆ 0.0       ┆ 0.0       ┆ NA        │\n",
       "│ 25%       ┆ 2.0221e9  ┆ 955.0     ┆ 43384.0   ┆ … ┆ 0.01     ┆ 89.33     ┆ 89.66     ┆ null      │\n",
       "│ 50%       ┆ 2.0221e9  ┆ 1995.0    ┆ 46214.0   ┆ … ┆ 0.06     ┆ 177.32    ┆ 179.65    ┆ null      │\n",
       "│ 75%       ┆ 2.0221e9  ┆ 3043.0    ┆ 52498.0   ┆ … ┆ 0.2      ┆ 269.22    ┆ 270.35    ┆ null      │\n",
       "│ max       ┆ 2.0221e9  ┆ 5120.0    ┆ 55173.0   ┆ … ┆ 7.63     ┆ 360.0     ┆ 360.0     ┆ touchdown │\n",
       "└───────────┴───────────┴───────────┴───────────┴───┴──────────┴───────────┴───────────┴───────────┘"
      ]
     },
     "execution_count": 19,
     "metadata": {},
     "output_type": "execute_result"
    }
   ],
   "source": [
    "lazy_df.collect().describe()"
   ]
  },
  {
   "cell_type": "code",
   "execution_count": 8,
   "metadata": {},
   "outputs": [
    {
     "data": {
      "text/html": [
       "<div><style>\n",
       ".dataframe > thead > tr,\n",
       ".dataframe > tbody > tr {\n",
       "  text-align: right;\n",
       "  white-space: pre-wrap;\n",
       "}\n",
       "</style>\n",
       "<small>shape: (5, 18)</small><table border=\"1\" class=\"dataframe\"><thead><tr><th>gameId</th><th>playId</th><th>nflId</th><th>displayName</th><th>frameId</th><th>frameType</th><th>time</th><th>jerseyNumber</th><th>club</th><th>playDirection</th><th>x</th><th>y</th><th>s</th><th>a</th><th>dis</th><th>o</th><th>dir</th><th>event</th></tr><tr><td>i64</td><td>i64</td><td>i64</td><td>str</td><td>i64</td><td>str</td><td>str</td><td>i64</td><td>str</td><td>str</td><td>f64</td><td>f64</td><td>f64</td><td>f64</td><td>f64</td><td>f64</td><td>f64</td><td>str</td></tr></thead><tbody><tr><td>2022091200</td><td>64</td><td>35459</td><td>&quot;Kareem Jackson&quot;</td><td>1</td><td>&quot;BEFORE_SNAP&quot;</td><td>&quot;2022-09-13 00:16:03.5&quot;</td><td>22</td><td>&quot;DEN&quot;</td><td>&quot;right&quot;</td><td>51.06</td><td>28.55</td><td>0.72</td><td>0.37</td><td>0.07</td><td>246.17</td><td>68.34</td><td>&quot;huddle_break_offense&quot;</td></tr><tr><td>2022091200</td><td>64</td><td>35459</td><td>&quot;Kareem Jackson&quot;</td><td>2</td><td>&quot;BEFORE_SNAP&quot;</td><td>&quot;2022-09-13 00:16:03.6&quot;</td><td>22</td><td>&quot;DEN&quot;</td><td>&quot;right&quot;</td><td>51.13</td><td>28.57</td><td>0.71</td><td>0.36</td><td>0.07</td><td>245.41</td><td>71.21</td><td>&quot;NA&quot;</td></tr><tr><td>2022091200</td><td>64</td><td>35459</td><td>&quot;Kareem Jackson&quot;</td><td>3</td><td>&quot;BEFORE_SNAP&quot;</td><td>&quot;2022-09-13 00:16:03.7&quot;</td><td>22</td><td>&quot;DEN&quot;</td><td>&quot;right&quot;</td><td>51.2</td><td>28.59</td><td>0.69</td><td>0.23</td><td>0.07</td><td>244.45</td><td>69.9</td><td>&quot;NA&quot;</td></tr><tr><td>2022091200</td><td>64</td><td>35459</td><td>&quot;Kareem Jackson&quot;</td><td>4</td><td>&quot;BEFORE_SNAP&quot;</td><td>&quot;2022-09-13 00:16:03.8&quot;</td><td>22</td><td>&quot;DEN&quot;</td><td>&quot;right&quot;</td><td>51.26</td><td>28.62</td><td>0.67</td><td>0.22</td><td>0.07</td><td>244.45</td><td>67.98</td><td>&quot;NA&quot;</td></tr><tr><td>2022091200</td><td>64</td><td>35459</td><td>&quot;Kareem Jackson&quot;</td><td>5</td><td>&quot;BEFORE_SNAP&quot;</td><td>&quot;2022-09-13 00:16:03.9&quot;</td><td>22</td><td>&quot;DEN&quot;</td><td>&quot;right&quot;</td><td>51.32</td><td>28.65</td><td>0.65</td><td>0.34</td><td>0.07</td><td>245.74</td><td>62.83</td><td>&quot;NA&quot;</td></tr></tbody></table></div>"
      ],
      "text/plain": [
       "shape: (5, 18)\n",
       "┌────────────┬────────┬───────┬────────────────┬───┬──────┬────────┬───────┬──────────────────────┐\n",
       "│ gameId     ┆ playId ┆ nflId ┆ displayName    ┆ … ┆ dis  ┆ o      ┆ dir   ┆ event                │\n",
       "│ ---        ┆ ---    ┆ ---   ┆ ---            ┆   ┆ ---  ┆ ---    ┆ ---   ┆ ---                  │\n",
       "│ i64        ┆ i64    ┆ i64   ┆ str            ┆   ┆ f64  ┆ f64    ┆ f64   ┆ str                  │\n",
       "╞════════════╪════════╪═══════╪════════════════╪═══╪══════╪════════╪═══════╪══════════════════════╡\n",
       "│ 2022091200 ┆ 64     ┆ 35459 ┆ Kareem Jackson ┆ … ┆ 0.07 ┆ 246.17 ┆ 68.34 ┆ huddle_break_offense │\n",
       "│ 2022091200 ┆ 64     ┆ 35459 ┆ Kareem Jackson ┆ … ┆ 0.07 ┆ 245.41 ┆ 71.21 ┆ NA                   │\n",
       "│ 2022091200 ┆ 64     ┆ 35459 ┆ Kareem Jackson ┆ … ┆ 0.07 ┆ 244.45 ┆ 69.9  ┆ NA                   │\n",
       "│ 2022091200 ┆ 64     ┆ 35459 ┆ Kareem Jackson ┆ … ┆ 0.07 ┆ 244.45 ┆ 67.98 ┆ NA                   │\n",
       "│ 2022091200 ┆ 64     ┆ 35459 ┆ Kareem Jackson ┆ … ┆ 0.07 ┆ 245.74 ┆ 62.83 ┆ NA                   │\n",
       "└────────────┴────────┴───────┴────────────────┴───┴──────┴────────┴───────┴──────────────────────┘"
      ]
     },
     "execution_count": 8,
     "metadata": {},
     "output_type": "execute_result"
    }
   ],
   "source": [
    "# Filter based on a column\n",
    "single_play = lazy_df.filter((pl.col(\"gameId\") == 2022091200) & (pl.col(\"playId\") == 64)).collect()\n",
    "single_play.head()"
   ]
  },
  {
   "cell_type": "code",
   "execution_count": 9,
   "metadata": {},
   "outputs": [
    {
     "data": {
      "text/plain": [
       "(3749, 18)"
      ]
     },
     "execution_count": 9,
     "metadata": {},
     "output_type": "execute_result"
    }
   ],
   "source": [
    "single_play.shape"
   ]
  },
  {
   "cell_type": "code",
   "execution_count": 10,
   "metadata": {},
   "outputs": [
    {
     "data": {
      "text/html": [
       "<div><style>\n",
       ".dataframe > thead > tr,\n",
       ".dataframe > tbody > tr {\n",
       "  text-align: right;\n",
       "  white-space: pre-wrap;\n",
       "}\n",
       "</style>\n",
       "<small>shape: (1_952, 4)</small><table border=\"1\" class=\"dataframe\"><thead><tr><th>gameId</th><th>playId</th><th>number_of_rows</th><th>number_of_frames</th></tr><tr><td>i64</td><td>i64</td><td>u32</td><td>u32</td></tr></thead><tbody><tr><td>2022091105</td><td>1589</td><td>5497</td><td>239</td></tr><tr><td>2022091104</td><td>2760</td><td>3611</td><td>157</td></tr><tr><td>2022091109</td><td>563</td><td>3680</td><td>160</td></tr><tr><td>2022091105</td><td>1215</td><td>4301</td><td>187</td></tr><tr><td>2022091103</td><td>2037</td><td>4623</td><td>201</td></tr><tr><td>&hellip;</td><td>&hellip;</td><td>&hellip;</td><td>&hellip;</td></tr><tr><td>2022091102</td><td>1907</td><td>3059</td><td>133</td></tr><tr><td>2022090800</td><td>1406</td><td>2944</td><td>128</td></tr><tr><td>2022091105</td><td>1480</td><td>1334</td><td>58</td></tr><tr><td>2022091102</td><td>2259</td><td>4209</td><td>183</td></tr><tr><td>2022091102</td><td>921</td><td>3496</td><td>152</td></tr></tbody></table></div>"
      ],
      "text/plain": [
       "shape: (1_952, 4)\n",
       "┌────────────┬────────┬────────────────┬──────────────────┐\n",
       "│ gameId     ┆ playId ┆ number_of_rows ┆ number_of_frames │\n",
       "│ ---        ┆ ---    ┆ ---            ┆ ---              │\n",
       "│ i64        ┆ i64    ┆ u32            ┆ u32              │\n",
       "╞════════════╪════════╪════════════════╪══════════════════╡\n",
       "│ 2022091105 ┆ 1589   ┆ 5497           ┆ 239              │\n",
       "│ 2022091104 ┆ 2760   ┆ 3611           ┆ 157              │\n",
       "│ 2022091109 ┆ 563    ┆ 3680           ┆ 160              │\n",
       "│ 2022091105 ┆ 1215   ┆ 4301           ┆ 187              │\n",
       "│ 2022091103 ┆ 2037   ┆ 4623           ┆ 201              │\n",
       "│ …          ┆ …      ┆ …              ┆ …                │\n",
       "│ 2022091102 ┆ 1907   ┆ 3059           ┆ 133              │\n",
       "│ 2022090800 ┆ 1406   ┆ 2944           ┆ 128              │\n",
       "│ 2022091105 ┆ 1480   ┆ 1334           ┆ 58               │\n",
       "│ 2022091102 ┆ 2259   ┆ 4209           ┆ 183              │\n",
       "│ 2022091102 ┆ 921    ┆ 3496           ┆ 152              │\n",
       "└────────────┴────────┴────────────────┴──────────────────┘"
      ]
     },
     "execution_count": 10,
     "metadata": {},
     "output_type": "execute_result"
    }
   ],
   "source": [
    "# Group by a column\n",
    "lazy_df.group_by([\"gameId\", \"playId\"]).agg([\n",
    "    pl.col(\"x\").count().alias(\"number_of_rows\"),\n",
    "    pl.col(\"frameId\").n_unique().alias(\"number_of_frames\"),\n",
    "]).collect()"
   ]
  },
  {
   "cell_type": "code",
   "execution_count": null,
   "metadata": {},
   "outputs": [],
   "source": []
  }
 ],
 "metadata": {
  "kernelspec": {
   "display_name": ".venv",
   "language": "python",
   "name": "python3"
  },
  "language_info": {
   "codemirror_mode": {
    "name": "ipython",
    "version": 3
   },
   "file_extension": ".py",
   "mimetype": "text/x-python",
   "name": "python",
   "nbconvert_exporter": "python",
   "pygments_lexer": "ipython3",
   "version": "3.12.1"
  }
 },
 "nbformat": 4,
 "nbformat_minor": 2
}
