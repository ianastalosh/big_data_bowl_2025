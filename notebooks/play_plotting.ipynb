{
 "cells": [
  {
   "cell_type": "code",
   "execution_count": 1,
   "metadata": {},
   "outputs": [],
   "source": [
    "import polars as pl\n",
    "import matplotlib.pyplot as plt"
   ]
  },
  {
   "cell_type": "code",
   "execution_count": 2,
   "metadata": {},
   "outputs": [
    {
     "data": {
      "text/html": [
       "<div><style>\n",
       ".dataframe > thead > tr,\n",
       ".dataframe > tbody > tr {\n",
       "  text-align: right;\n",
       "  white-space: pre-wrap;\n",
       "}\n",
       "</style>\n",
       "<small>shape: (5, 18)</small><table border=\"1\" class=\"dataframe\"><thead><tr><th>gameId</th><th>playId</th><th>nflId</th><th>displayName</th><th>frameId</th><th>frameType</th><th>time</th><th>jerseyNumber</th><th>club</th><th>playDirection</th><th>x</th><th>y</th><th>s</th><th>a</th><th>dis</th><th>o</th><th>dir</th><th>event</th></tr><tr><td>i64</td><td>i64</td><td>i64</td><td>str</td><td>i64</td><td>str</td><td>str</td><td>i64</td><td>str</td><td>str</td><td>f64</td><td>f64</td><td>f64</td><td>f64</td><td>f64</td><td>f64</td><td>f64</td><td>str</td></tr></thead><tbody><tr><td>2022091200</td><td>64</td><td>35459</td><td>&quot;Kareem Jackson&quot;</td><td>30</td><td>&quot;BEFORE_SNAP&quot;</td><td>&quot;2022-09-13 00:16:06.4&quot;</td><td>22</td><td>&quot;DEN&quot;</td><td>&quot;right&quot;</td><td>52.19</td><td>28.94</td><td>0.05</td><td>0.56</td><td>0.01</td><td>231.72</td><td>96.9</td><td>&quot;NA&quot;</td></tr><tr><td>2022091200</td><td>64</td><td>39987</td><td>&quot;Geno Smith&quot;</td><td>30</td><td>&quot;BEFORE_SNAP&quot;</td><td>&quot;2022-09-13 00:16:06.4&quot;</td><td>7</td><td>&quot;SEA&quot;</td><td>&quot;right&quot;</td><td>34.97</td><td>23.87</td><td>0.67</td><td>0.38</td><td>0.07</td><td>86.94</td><td>67.88</td><td>&quot;NA&quot;</td></tr><tr><td>2022091200</td><td>64</td><td>41310</td><td>&quot;Gabe Jackson&quot;</td><td>30</td><td>&quot;BEFORE_SNAP&quot;</td><td>&quot;2022-09-13 00:16:06.4&quot;</td><td>66</td><td>&quot;SEA&quot;</td><td>&quot;right&quot;</td><td>38.6</td><td>22.37</td><td>0.29</td><td>0.78</td><td>0.03</td><td>85.7</td><td>81.48</td><td>&quot;NA&quot;</td></tr><tr><td>2022091200</td><td>64</td><td>42393</td><td>&quot;Ronald Darby&quot;</td><td>30</td><td>&quot;BEFORE_SNAP&quot;</td><td>&quot;2022-09-13 00:16:06.4&quot;</td><td>23</td><td>&quot;DEN&quot;</td><td>&quot;right&quot;</td><td>45.05</td><td>15.36</td><td>1.64</td><td>1.25</td><td>0.17</td><td>278.52</td><td>171.25</td><td>&quot;NA&quot;</td></tr><tr><td>2022091200</td><td>64</td><td>42403</td><td>&quot;Randy Gregory&quot;</td><td>30</td><td>&quot;BEFORE_SNAP&quot;</td><td>&quot;2022-09-13 00:16:06.4&quot;</td><td>5</td><td>&quot;DEN&quot;</td><td>&quot;right&quot;</td><td>41.01</td><td>18.8</td><td>0.39</td><td>0.3</td><td>0.04</td><td>254.59</td><td>260.32</td><td>&quot;NA&quot;</td></tr></tbody></table></div>"
      ],
      "text/plain": [
       "shape: (5, 18)\n",
       "┌────────────┬────────┬───────┬────────────────┬───┬──────┬────────┬────────┬───────┐\n",
       "│ gameId     ┆ playId ┆ nflId ┆ displayName    ┆ … ┆ dis  ┆ o      ┆ dir    ┆ event │\n",
       "│ ---        ┆ ---    ┆ ---   ┆ ---            ┆   ┆ ---  ┆ ---    ┆ ---    ┆ ---   │\n",
       "│ i64        ┆ i64    ┆ i64   ┆ str            ┆   ┆ f64  ┆ f64    ┆ f64    ┆ str   │\n",
       "╞════════════╪════════╪═══════╪════════════════╪═══╪══════╪════════╪════════╪═══════╡\n",
       "│ 2022091200 ┆ 64     ┆ 35459 ┆ Kareem Jackson ┆ … ┆ 0.01 ┆ 231.72 ┆ 96.9   ┆ NA    │\n",
       "│ 2022091200 ┆ 64     ┆ 39987 ┆ Geno Smith     ┆ … ┆ 0.07 ┆ 86.94  ┆ 67.88  ┆ NA    │\n",
       "│ 2022091200 ┆ 64     ┆ 41310 ┆ Gabe Jackson   ┆ … ┆ 0.03 ┆ 85.7   ┆ 81.48  ┆ NA    │\n",
       "│ 2022091200 ┆ 64     ┆ 42393 ┆ Ronald Darby   ┆ … ┆ 0.17 ┆ 278.52 ┆ 171.25 ┆ NA    │\n",
       "│ 2022091200 ┆ 64     ┆ 42403 ┆ Randy Gregory  ┆ … ┆ 0.04 ┆ 254.59 ┆ 260.32 ┆ NA    │\n",
       "└────────────┴────────┴───────┴────────────────┴───┴──────┴────────┴────────┴───────┘"
      ]
     },
     "execution_count": 2,
     "metadata": {},
     "output_type": "execute_result"
    }
   ],
   "source": [
    "# Load a play dataset\n",
    "tracking_file = \"../data/tracking_week_1.csv\"\n",
    "lazy_df = pl.scan_csv(tracking_file, ignore_errors=True)\n",
    "\n",
    "sample_play_frame = lazy_df.filter(\n",
    "    (pl.col(\"gameId\") == 2022091200) & \n",
    "    (pl.col(\"playId\") == 64) & \n",
    "    (pl.col(\"frameId\") == 30)\n",
    ").collect()\n",
    "\n",
    "sample_play_frame.head(5)"
   ]
  },
  {
   "cell_type": "code",
   "execution_count": 3,
   "metadata": {},
   "outputs": [
    {
     "data": {
      "text/plain": [
       "(23, 18)"
      ]
     },
     "execution_count": 3,
     "metadata": {},
     "output_type": "execute_result"
    }
   ],
   "source": [
    "sample_play_frame.shape"
   ]
  },
  {
   "cell_type": "code",
   "execution_count": null,
   "metadata": {},
   "outputs": [],
   "source": [
    "# Create a figure\n",
    "fig = plt.figure()\n",
    "\n",
    "# Draw field lines\n",
    "plt.plot([])"
   ]
  },
  {
   "cell_type": "code",
   "execution_count": null,
   "metadata": {},
   "outputs": [],
   "source": []
  }
 ],
 "metadata": {
  "kernelspec": {
   "display_name": ".venv",
   "language": "python",
   "name": "python3"
  },
  "language_info": {
   "codemirror_mode": {
    "name": "ipython",
    "version": 3
   },
   "file_extension": ".py",
   "mimetype": "text/x-python",
   "name": "python",
   "nbconvert_exporter": "python",
   "pygments_lexer": "ipython3",
   "version": "3.12.1"
  }
 },
 "nbformat": 4,
 "nbformat_minor": 2
}
