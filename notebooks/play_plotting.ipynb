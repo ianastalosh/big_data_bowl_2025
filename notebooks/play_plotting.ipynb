{
 "cells": [
  {
   "cell_type": "code",
   "execution_count": 1,
   "metadata": {},
   "outputs": [],
   "source": [
    "import polars as pl\n",
    "import matplotlib.pyplot as plt\n",
    "import matplotlib.patches as patches\n"
   ]
  },
  {
   "cell_type": "markdown",
   "metadata": {},
   "source": [
    "## Single frame plotting\n",
    "Practice plotting a single frame"
   ]
  },
  {
   "cell_type": "code",
   "execution_count": 2,
   "metadata": {},
   "outputs": [
    {
     "data": {
      "text/html": [
       "<div><style>\n",
       ".dataframe > thead > tr,\n",
       ".dataframe > tbody > tr {\n",
       "  text-align: right;\n",
       "  white-space: pre-wrap;\n",
       "}\n",
       "</style>\n",
       "<small>shape: (5, 18)</small><table border=\"1\" class=\"dataframe\"><thead><tr><th>gameId</th><th>playId</th><th>nflId</th><th>displayName</th><th>frameId</th><th>frameType</th><th>time</th><th>jerseyNumber</th><th>club</th><th>playDirection</th><th>x</th><th>y</th><th>s</th><th>a</th><th>dis</th><th>o</th><th>dir</th><th>event</th></tr><tr><td>i64</td><td>i64</td><td>i64</td><td>str</td><td>i64</td><td>str</td><td>str</td><td>i64</td><td>str</td><td>str</td><td>f64</td><td>f64</td><td>f64</td><td>f64</td><td>f64</td><td>f64</td><td>f64</td><td>str</td></tr></thead><tbody><tr><td>2022091200</td><td>64</td><td>35459</td><td>&quot;Kareem Jackson&quot;</td><td>30</td><td>&quot;BEFORE_SNAP&quot;</td><td>&quot;2022-09-13 00:16:06.4&quot;</td><td>22</td><td>&quot;DEN&quot;</td><td>&quot;right&quot;</td><td>52.19</td><td>28.94</td><td>0.05</td><td>0.56</td><td>0.01</td><td>231.72</td><td>96.9</td><td>&quot;NA&quot;</td></tr><tr><td>2022091200</td><td>64</td><td>39987</td><td>&quot;Geno Smith&quot;</td><td>30</td><td>&quot;BEFORE_SNAP&quot;</td><td>&quot;2022-09-13 00:16:06.4&quot;</td><td>7</td><td>&quot;SEA&quot;</td><td>&quot;right&quot;</td><td>34.97</td><td>23.87</td><td>0.67</td><td>0.38</td><td>0.07</td><td>86.94</td><td>67.88</td><td>&quot;NA&quot;</td></tr><tr><td>2022091200</td><td>64</td><td>41310</td><td>&quot;Gabe Jackson&quot;</td><td>30</td><td>&quot;BEFORE_SNAP&quot;</td><td>&quot;2022-09-13 00:16:06.4&quot;</td><td>66</td><td>&quot;SEA&quot;</td><td>&quot;right&quot;</td><td>38.6</td><td>22.37</td><td>0.29</td><td>0.78</td><td>0.03</td><td>85.7</td><td>81.48</td><td>&quot;NA&quot;</td></tr><tr><td>2022091200</td><td>64</td><td>42393</td><td>&quot;Ronald Darby&quot;</td><td>30</td><td>&quot;BEFORE_SNAP&quot;</td><td>&quot;2022-09-13 00:16:06.4&quot;</td><td>23</td><td>&quot;DEN&quot;</td><td>&quot;right&quot;</td><td>45.05</td><td>15.36</td><td>1.64</td><td>1.25</td><td>0.17</td><td>278.52</td><td>171.25</td><td>&quot;NA&quot;</td></tr><tr><td>2022091200</td><td>64</td><td>42403</td><td>&quot;Randy Gregory&quot;</td><td>30</td><td>&quot;BEFORE_SNAP&quot;</td><td>&quot;2022-09-13 00:16:06.4&quot;</td><td>5</td><td>&quot;DEN&quot;</td><td>&quot;right&quot;</td><td>41.01</td><td>18.8</td><td>0.39</td><td>0.3</td><td>0.04</td><td>254.59</td><td>260.32</td><td>&quot;NA&quot;</td></tr></tbody></table></div>"
      ],
      "text/plain": [
       "shape: (5, 18)\n",
       "┌────────────┬────────┬───────┬────────────────┬───┬──────┬────────┬────────┬───────┐\n",
       "│ gameId     ┆ playId ┆ nflId ┆ displayName    ┆ … ┆ dis  ┆ o      ┆ dir    ┆ event │\n",
       "│ ---        ┆ ---    ┆ ---   ┆ ---            ┆   ┆ ---  ┆ ---    ┆ ---    ┆ ---   │\n",
       "│ i64        ┆ i64    ┆ i64   ┆ str            ┆   ┆ f64  ┆ f64    ┆ f64    ┆ str   │\n",
       "╞════════════╪════════╪═══════╪════════════════╪═══╪══════╪════════╪════════╪═══════╡\n",
       "│ 2022091200 ┆ 64     ┆ 35459 ┆ Kareem Jackson ┆ … ┆ 0.01 ┆ 231.72 ┆ 96.9   ┆ NA    │\n",
       "│ 2022091200 ┆ 64     ┆ 39987 ┆ Geno Smith     ┆ … ┆ 0.07 ┆ 86.94  ┆ 67.88  ┆ NA    │\n",
       "│ 2022091200 ┆ 64     ┆ 41310 ┆ Gabe Jackson   ┆ … ┆ 0.03 ┆ 85.7   ┆ 81.48  ┆ NA    │\n",
       "│ 2022091200 ┆ 64     ┆ 42393 ┆ Ronald Darby   ┆ … ┆ 0.17 ┆ 278.52 ┆ 171.25 ┆ NA    │\n",
       "│ 2022091200 ┆ 64     ┆ 42403 ┆ Randy Gregory  ┆ … ┆ 0.04 ┆ 254.59 ┆ 260.32 ┆ NA    │\n",
       "└────────────┴────────┴───────┴────────────────┴───┴──────┴────────┴────────┴───────┘"
      ]
     },
     "execution_count": 2,
     "metadata": {},
     "output_type": "execute_result"
    }
   ],
   "source": [
    "# Load a play dataset\n",
    "tracking_file = \"../data/tracking_week_1.csv\"\n",
    "lazy_df = pl.scan_csv(tracking_file, ignore_errors=True)\n",
    "\n",
    "sample_play_frame = lazy_df.filter(\n",
    "    (pl.col(\"gameId\") == 2022091200) & \n",
    "    (pl.col(\"playId\") == 64) & \n",
    "    (pl.col(\"frameId\") == 30)\n",
    ").collect()\n",
    "\n",
    "sample_play_frame.head(5)"
   ]
  },
  {
   "cell_type": "code",
   "execution_count": 3,
   "metadata": {},
   "outputs": [
    {
     "data": {
      "text/plain": [
       "(23, 18)"
      ]
     },
     "execution_count": 3,
     "metadata": {},
     "output_type": "execute_result"
    }
   ],
   "source": [
    "sample_play_frame.shape"
   ]
  },
  {
   "cell_type": "code",
   "execution_count": 4,
   "metadata": {},
   "outputs": [],
   "source": [
    "MIN_X = 0\n",
    "MIN_Y = 0\n",
    "MAX_X = 120\n",
    "MAX_Y = 160/3"
   ]
  },
  {
   "cell_type": "code",
   "execution_count": 5,
   "metadata": {},
   "outputs": [
    {
     "data": {
      "image/png": "[encoded data removed]",
      "text/plain": [
       "<Figure size 640x480 with 1 Axes>"
      ]
     },
     "metadata": {},
     "output_type": "display_data"
    }
   ],
   "source": [
    "# Create a figure\n",
    "fig = plt.figure()\n",
    "\n",
    "# Create limits\n",
    "plt.xlim(MIN_X - 10, MAX_X + 10)\n",
    "plt.ylim(MIN_Y - 10, MAX_Y + 10) \n",
    "\n",
    "# Colour the endzones\n",
    "endzone1 = patches.Rectangle((0,0), 10, 160/3, linewidth=1, edgecolor='darkviolet', facecolor='darkviolet')\n",
    "endzone2 = patches.Rectangle((110,0), 10, 160/3, linewidth=1, edgecolor='darkviolet', facecolor='darkviolet')\n",
    "\n",
    "plt.gca().add_patch(endzone1)\n",
    "plt.gca().add_patch(endzone2)\n",
    "\n",
    "# Draw field outline\n",
    "plt.plot([0,120], [0,0], color=\"black\")\n",
    "plt.plot([0,120], [160/3,160/3], color=\"black\")\n",
    "plt.plot([0,0], [0,160/3], color=\"black\")\n",
    "plt.plot([120,120], [0,160/3], color=\"black\")\n",
    "\n",
    "# Draw yard lines\n",
    "for x in range(10,115,5):\n",
    "    plt.plot([x,x], [0,160/3], color=\"black\")\n",
    "\n",
    "# Draw hash marks\n",
    "for x in range(10,110,1):\n",
    "    plt.plot([x,x], [160/6 - 3.0833 - 1, 160/6 - 3.0833], color=\"black\", linewidth=0.5)\n",
    "    plt.plot([x,x], [160/6 + 3.0833 + 1, 160/6 + 3.0833], color=\"black\", linewidth=0.5)\n",
    "    \n",
    "# Draw the yard numbers\n",
    "for x in range(10,50,10):\n",
    "    plt.text(x+10, 160/6 - 3.0833 - 12, str(x), fontsize=10, color=\"black\", ha='center')\n",
    "    plt.text(x+10, 160/6 + 3.0833 + 12, str(x), fontsize=10, color=\"black\", ha='center')\n",
    "    plt.text(110-x, 160/6 - 3.0833 - 12, str(x), fontsize=10, color=\"black\", ha='center')\n",
    "    plt.text(110-x, 160/6 + 3.0833 + 12, str(x), fontsize=10, color=\"black\", ha='center')\n",
    "plt.text(60, 160/6 - 3.0833 - 12, \"50\", fontsize=10, color=\"black\", ha='center')\n",
    "plt.text(60, 160/6 + 3.0833 + 12, \"50\", fontsize=10, color=\"black\", ha='center')\n",
    "\n",
    "# Add the players\n",
    "\n",
    "players = sample_play_frame.filter(pl.col(\"club\") != \"football\")\n",
    "unique_teams = players.select(pl.col(\"club\").unique())\n",
    "\n",
    "football = sample_play_frame.filter(pl.col(\"club\") == \"football\")\n",
    "\n",
    "team_colors = {\n",
    "    unique_teams.item(0,0): \"red\", \n",
    "    unique_teams.item(1,0): \"green\",\n",
    "    \"football\": \"brown\"\n",
    "}\n",
    "\n",
    "players = players.with_columns(\n",
    "    colors=pl.col(\"club\").replace(team_colors)\n",
    ")\n",
    "\n",
    "for row in players.iter_rows(named=True):\n",
    "    plt.scatter(row[\"x\"], row[\"y\"], color=row[\"colors\"], s=75, zorder=3)\n",
    "    plt.text(row[\"x\"], row[\"y\"], row[\"jerseyNumber\"], fontsize=8, ha='center', va='center', zorder=4)\n",
    "\n",
    "# Plot the football\n",
    "plt.scatter(football[\"x\"][0], football[\"y\"][0], color=\"brown\", s=50, zorder=3)\n",
    "\n",
    "# Hide pltes\n",
    "plt.axis('off')\n",
    "\n",
    "fig.show()"
   ]
  },
  {
   "cell_type": "code",
   "execution_count": 6,
   "metadata": {},
   "outputs": [
    {
     "data": {
      "text/plain": [
       "15.3"
      ]
     },
     "execution_count": 6,
     "metadata": {},
     "output_type": "execute_result"
    }
   ],
   "source": [
    "sample_play_frame[\"y\"].min()"
   ]
  },
  {
   "cell_type": "code",
   "execution_count": 7,
   "metadata": {},
   "outputs": [
    {
     "data": {
      "image/png": "[encoded data removed]",
      "text/plain": [
       "<Figure size 640x480 with 1 Axes>"
      ]
     },
     "metadata": {},
     "output_type": "display_data"
    }
   ],
   "source": [
    "# Create a figure\n",
    "fig = plt.figure()\n",
    "\n",
    "# Create limits\n",
    "plt.xlim(MIN_Y - 10, MAX_Y + 10)\n",
    "plt.ylim(MIN_X - 10, MAX_X + 10) \n",
    "\n",
    "# Colour the endzones\n",
    "endzone1 = patches.Rectangle((0,0), 160/3, 10, linewidth=1, edgecolor='darkviolet', facecolor='darkviolet')\n",
    "endzone2 = patches.Rectangle((0,110), 160/3, 10, linewidth=1, edgecolor='darkviolet', facecolor='darkviolet')\n",
    "\n",
    "plt.gca().add_patch(endzone1)\n",
    "plt.gca().add_patch(endzone2)\n",
    "\n",
    "# Draw field outline\n",
    "plt.plot([0,0], [0,120], color=\"black\")\n",
    "plt.plot([0,160/3], [0, 0], color=\"black\")\n",
    "plt.plot([160/3,0], [120, 120], color=\"black\")\n",
    "plt.plot([160/3,160/3], [120,0], color=\"black\")\n",
    "\n",
    "# Draw yard lines\n",
    "for y in range(10,115,5):\n",
    "    plt.plot([0,160/3], [y,y], color=\"black\")\n",
    "\n",
    "# Draw hash marks\n",
    "for y in range(10,110,1):\n",
    "    plt.plot([160/6 - 3.0833 - 1, 160/6 - 3.0833], [y,y], color=\"black\", linewidth=0.5)\n",
    "    plt.plot([160/6 + 3.0833 + 1, 160/6 + 3.0833], [y,y], color=\"black\", linewidth=0.5)\n",
    "    \n",
    "# Draw the yard numbers\n",
    "for y in range(10,50,10):\n",
    "    plt.text(160/6 - 3.0833 - 12, y+10, str(y), fontsize=10, color=\"black\", ha='right', va=\"center\", rotation=-90)\n",
    "    plt.text(160/6 + 3.0833 + 12, y+10, str(y), fontsize=10, color=\"black\", ha='left', va=\"center\", rotation=90)\n",
    "    plt.text(160/6 - 3.0833 - 12, 110-y, str(y), fontsize=10, color=\"black\", ha='right', va=\"center\", rotation=-90)\n",
    "    plt.text(160/6 + 3.0833 + 12, 110-y, str(y), fontsize=10, color=\"black\", ha='left',va=\"center\", rotation=90)\n",
    "plt.text(160/6 - 3.0833 - 12, 60, \"50\", fontsize=10, color=\"black\", ha='right', va=\"center\", rotation=-90)\n",
    "plt.text(160/6 + 3.0833 + 12, 60, \"50\", fontsize=10, color=\"black\", ha='left', va=\"center\", rotation=90)\n",
    "\n",
    "# Add the players\n",
    "\n",
    "players = sample_play_frame.filter(pl.col(\"club\") != \"football\")\n",
    "unique_teams = players.select(pl.col(\"club\").unique())\n",
    "\n",
    "football = sample_play_frame.filter(pl.col(\"club\") == \"football\")\n",
    "\n",
    "team_colors = {\n",
    "    unique_teams.item(0,0): \"red\", \n",
    "    unique_teams.item(1,0): \"green\",\n",
    "    \"football\": \"brown\"\n",
    "}\n",
    "\n",
    "players = players.with_columns(\n",
    "    colors=pl.col(\"club\").replace(team_colors)\n",
    ")\n",
    "\n",
    "for row in players.iter_rows(named=True):\n",
    "    plt.scatter(row[\"y\"], row[\"x\"], color=row[\"colors\"], s=75, zorder=3)\n",
    "    plt.text(row[\"y\"], row[\"x\"], row[\"jerseyNumber\"], fontsize=8, ha='center', va='center', zorder=4, clip_on=True)\n",
    "\n",
    "# Plot the football\n",
    "plt.scatter(football[\"y\"][0], football[\"x\"][0], color=\"brown\", s=50, zorder=3)\n",
    "\n",
    "# Hide axis\n",
    "plt.axis('off')\n",
    "\n",
    "fig.show()"
   ]
  },
  {
   "cell_type": "code",
   "execution_count": 57,
   "metadata": {},
   "outputs": [],
   "source": [
    "\n",
    "class PlotPlayFrameVertical():\n",
    "    def __init__(self, frame_df):\n",
    "        self.frame_df = frame_df\n",
    "        self.min_x = MIN_X\n",
    "        self.min_y = MIN_Y\n",
    "        self.max_x = MAX_X\n",
    "        self.max_y = MAX_Y\n",
    "        self.colour1 = \"red\"\n",
    "        self.colour2 = \"green\"\n",
    "        self.ball_colour = \"brown\"\n",
    "        self.fig, self.ax = plt.subplots()\n",
    "        plt.close(self.fig) # Don't display empty plot immediately in Jupyter notebook\n",
    "\n",
    "    def _create_team_colours_dict(self):\n",
    "        unique_teams = self.frame_df.filter(pl.col(\"club\") != \"football\").select(pl.col(\"club\").unique()).sort(\"club\")\n",
    "        team_colours = {\n",
    "            unique_teams.item(0,0): self.colour1, \n",
    "            unique_teams.item(1,0): self.colour2,\n",
    "            \"football\": self.ball_colour\n",
    "        }\n",
    "        return team_colours\n",
    "    \n",
    "    def _plot_field(self):\n",
    "        # Create limits\n",
    "        self.ax.set_xlim(MIN_Y - 10, MAX_Y + 10)\n",
    "        self.ax.set_ylim(MIN_X - 10, MAX_X + 10) \n",
    "\n",
    "        # Colour the endzones\n",
    "        endzone1 = patches.Rectangle((0,0), 160/3, 10, linewidth=1, edgecolor='darkviolet', facecolor='darkviolet')\n",
    "        endzone2 = patches.Rectangle((0,110), 160/3, 10, linewidth=1, edgecolor='darkviolet', facecolor='darkviolet')\n",
    "\n",
    "        self.ax.add_patch(endzone1)\n",
    "        self.ax.add_patch(endzone2)\n",
    "\n",
    "        # Draw field outline\n",
    "        self.ax.plot([0,0], [0,120], color=\"black\")\n",
    "        self.ax.plot([0,160/3], [0, 0], color=\"black\")\n",
    "        self.ax.plot([160/3,0], [120, 120], color=\"black\")\n",
    "        self.ax.plot([160/3,160/3], [120,0], color=\"black\")\n",
    "\n",
    "        # Draw yard lines\n",
    "        for y in range(10,115,5):\n",
    "            self.ax.plot([0,160/3], [y,y], color=\"black\")\n",
    "\n",
    "        # Draw hash marks\n",
    "        for y in range(10,110,1):\n",
    "            self.ax.plot([160/6 - 3.0833 - 1, 160/6 - 3.0833], [y,y], color=\"black\", linewidth=0.5)\n",
    "            self.ax.plot([160/6 + 3.0833 + 1, 160/6 + 3.0833], [y,y], color=\"black\", linewidth=0.5)\n",
    "            \n",
    "        # Draw the yard numbers\n",
    "        for y in range(10,50,10):\n",
    "            self.ax.text(160/6 - 3.0833 - 12, y+10, str(y), fontsize=10, color=\"black\", ha='right', va=\"center\", rotation=-90)\n",
    "            self.ax.text(160/6 + 3.0833 + 12, y+10, str(y), fontsize=10, color=\"black\", ha='left', va=\"center\", rotation=90)\n",
    "            self.ax.text(160/6 - 3.0833 - 12, 110-y, str(y), fontsize=10, color=\"black\", ha='right', va=\"center\", rotation=-90)\n",
    "            self.ax.text(160/6 + 3.0833 + 12, 110-y, str(y), fontsize=10, color=\"black\", ha='left',va=\"center\", rotation=90)\n",
    "        self.ax.text(160/6 - 3.0833 - 12, 60, \"50\", fontsize=10, color=\"black\", ha='right', va=\"center\", rotation=-90)\n",
    "        self.ax.text(160/6 + 3.0833 + 12, 60, \"50\", fontsize=10, color=\"black\", ha='left', va=\"center\", rotation=90)\n",
    "\n",
    "        self.ax.axis('off')\n",
    "\n",
    "    def _plot_players(self):\n",
    "        # Add the players\n",
    "        players = self.frame_df.filter(pl.col(\"club\") != \"football\")\n",
    "        football = self.frame_df.filter(pl.col(\"club\") == \"football\")\n",
    "\n",
    "        team_colours = self._create_team_colours_dict()\n",
    "        \n",
    "        players = players.with_columns(\n",
    "            colours=pl.col(\"club\").replace(team_colours)\n",
    "        )\n",
    "\n",
    "        for row in players.iter_rows(named=True):\n",
    "            self.ax.scatter(row[\"y\"], row[\"x\"], color=row[\"colours\"], s=75, zorder=3)\n",
    "            self.ax.text(row[\"y\"], row[\"x\"], row[\"jerseyNumber\"], fontsize=8, ha='center', va='center', zorder=4, clip_on=True)\n",
    "\n",
    "        # Plot the football\n",
    "        self.ax.scatter(football[\"y\"][0], football[\"x\"][0], color=\"brown\", s=50, zorder=3)\n",
    "\n",
    "\n",
    "    def plot_frame(self):\n",
    "        self._plot_field()\n",
    "        self._plot_players()\n",
    "        self.fig.show()\n",
    "        return self.fig\n",
    "    "
   ]
  },
  {
   "cell_type": "code",
   "execution_count": 58,
   "metadata": {},
   "outputs": [],
   "source": [
    "vertical_class = PlotPlayFrameVertical(sample_play_frame)"
   ]
  },
  {
   "cell_type": "code",
   "execution_count": 59,
   "metadata": {},
   "outputs": [
    {
     "data": {
      "image/png": "[encoded data removed]",
      "text/plain": [
       "<Figure size 640x480 with 1 Axes>"
      ]
     },
     "execution_count": 59,
     "metadata": {},
     "output_type": "execute_result"
    }
   ],
   "source": [
    "vertical_class.plot_frame()"
   ]
  },
  {
   "cell_type": "markdown",
   "metadata": {},
   "source": [
    "## Animation\n",
    "Now try to create an animated plot"
   ]
  },
  {
   "cell_type": "code",
   "execution_count": 55,
   "metadata": {},
   "outputs": [
    {
     "name": "stdout",
     "output_type": "stream",
     "text": [
      "(3749, 18)\n"
     ]
    },
    {
     "data": {
      "text/html": [
       "<div><style>\n",
       ".dataframe > thead > tr,\n",
       ".dataframe > tbody > tr {\n",
       "  text-align: right;\n",
       "  white-space: pre-wrap;\n",
       "}\n",
       "</style>\n",
       "<small>shape: (5, 18)</small><table border=\"1\" class=\"dataframe\"><thead><tr><th>gameId</th><th>playId</th><th>nflId</th><th>displayName</th><th>frameId</th><th>frameType</th><th>time</th><th>jerseyNumber</th><th>club</th><th>playDirection</th><th>x</th><th>y</th><th>s</th><th>a</th><th>dis</th><th>o</th><th>dir</th><th>event</th></tr><tr><td>i64</td><td>i64</td><td>i64</td><td>str</td><td>i64</td><td>str</td><td>str</td><td>i64</td><td>str</td><td>str</td><td>f64</td><td>f64</td><td>f64</td><td>f64</td><td>f64</td><td>f64</td><td>f64</td><td>str</td></tr></thead><tbody><tr><td>2022091200</td><td>64</td><td>35459</td><td>&quot;Kareem Jackson&quot;</td><td>1</td><td>&quot;BEFORE_SNAP&quot;</td><td>&quot;2022-09-13 00:16:03.5&quot;</td><td>22</td><td>&quot;DEN&quot;</td><td>&quot;right&quot;</td><td>51.06</td><td>28.55</td><td>0.72</td><td>0.37</td><td>0.07</td><td>246.17</td><td>68.34</td><td>&quot;huddle_break_offense&quot;</td></tr><tr><td>2022091200</td><td>64</td><td>35459</td><td>&quot;Kareem Jackson&quot;</td><td>2</td><td>&quot;BEFORE_SNAP&quot;</td><td>&quot;2022-09-13 00:16:03.6&quot;</td><td>22</td><td>&quot;DEN&quot;</td><td>&quot;right&quot;</td><td>51.13</td><td>28.57</td><td>0.71</td><td>0.36</td><td>0.07</td><td>245.41</td><td>71.21</td><td>&quot;NA&quot;</td></tr><tr><td>2022091200</td><td>64</td><td>35459</td><td>&quot;Kareem Jackson&quot;</td><td>3</td><td>&quot;BEFORE_SNAP&quot;</td><td>&quot;2022-09-13 00:16:03.7&quot;</td><td>22</td><td>&quot;DEN&quot;</td><td>&quot;right&quot;</td><td>51.2</td><td>28.59</td><td>0.69</td><td>0.23</td><td>0.07</td><td>244.45</td><td>69.9</td><td>&quot;NA&quot;</td></tr><tr><td>2022091200</td><td>64</td><td>35459</td><td>&quot;Kareem Jackson&quot;</td><td>4</td><td>&quot;BEFORE_SNAP&quot;</td><td>&quot;2022-09-13 00:16:03.8&quot;</td><td>22</td><td>&quot;DEN&quot;</td><td>&quot;right&quot;</td><td>51.26</td><td>28.62</td><td>0.67</td><td>0.22</td><td>0.07</td><td>244.45</td><td>67.98</td><td>&quot;NA&quot;</td></tr><tr><td>2022091200</td><td>64</td><td>35459</td><td>&quot;Kareem Jackson&quot;</td><td>5</td><td>&quot;BEFORE_SNAP&quot;</td><td>&quot;2022-09-13 00:16:03.9&quot;</td><td>22</td><td>&quot;DEN&quot;</td><td>&quot;right&quot;</td><td>51.32</td><td>28.65</td><td>0.65</td><td>0.34</td><td>0.07</td><td>245.74</td><td>62.83</td><td>&quot;NA&quot;</td></tr></tbody></table></div>"
      ],
      "text/plain": [
       "shape: (5, 18)\n",
       "┌────────────┬────────┬───────┬────────────────┬───┬──────┬────────┬───────┬──────────────────────┐\n",
       "│ gameId     ┆ playId ┆ nflId ┆ displayName    ┆ … ┆ dis  ┆ o      ┆ dir   ┆ event                │\n",
       "│ ---        ┆ ---    ┆ ---   ┆ ---            ┆   ┆ ---  ┆ ---    ┆ ---   ┆ ---                  │\n",
       "│ i64        ┆ i64    ┆ i64   ┆ str            ┆   ┆ f64  ┆ f64    ┆ f64   ┆ str                  │\n",
       "╞════════════╪════════╪═══════╪════════════════╪═══╪══════╪════════╪═══════╪══════════════════════╡\n",
       "│ 2022091200 ┆ 64     ┆ 35459 ┆ Kareem Jackson ┆ … ┆ 0.07 ┆ 246.17 ┆ 68.34 ┆ huddle_break_offense │\n",
       "│ 2022091200 ┆ 64     ┆ 35459 ┆ Kareem Jackson ┆ … ┆ 0.07 ┆ 245.41 ┆ 71.21 ┆ NA                   │\n",
       "│ 2022091200 ┆ 64     ┆ 35459 ┆ Kareem Jackson ┆ … ┆ 0.07 ┆ 244.45 ┆ 69.9  ┆ NA                   │\n",
       "│ 2022091200 ┆ 64     ┆ 35459 ┆ Kareem Jackson ┆ … ┆ 0.07 ┆ 244.45 ┆ 67.98 ┆ NA                   │\n",
       "│ 2022091200 ┆ 64     ┆ 35459 ┆ Kareem Jackson ┆ … ┆ 0.07 ┆ 245.74 ┆ 62.83 ┆ NA                   │\n",
       "└────────────┴────────┴───────┴────────────────┴───┴──────┴────────┴───────┴──────────────────────┘"
      ]
     },
     "execution_count": 55,
     "metadata": {},
     "output_type": "execute_result"
    }
   ],
   "source": [
    "sample_play = lazy_df.filter(\n",
    "    (pl.col(\"gameId\") == 2022091200) & \n",
    "    (pl.col(\"playId\") == 64)\n",
    ").collect()\n",
    "\n",
    "print(sample_play.shape)\n",
    "sample_play.head(5)"
   ]
  },
  {
   "cell_type": "code",
   "execution_count": 81,
   "metadata": {},
   "outputs": [],
   "source": [
    "# Plotting functions for tracking data\n",
    "import polars as pl\n",
    "import matplotlib.pyplot as plt\n",
    "import matplotlib.patches as patches\n",
    "\n",
    "MIN_X = 0\n",
    "MIN_Y = 0\n",
    "MAX_X = 120\n",
    "MAX_Y = 160/3\n",
    "\n",
    "class PlotPlay():\n",
    "    def __init__(self, play_df):\n",
    "        self.play_df = play_df\n",
    "        self.min_x = MIN_X\n",
    "        self.min_y = MIN_Y\n",
    "        self.max_x = MAX_X\n",
    "        self.max_y = MAX_Y\n",
    "        self.colour1 = \"red\"\n",
    "        self.colour2 = \"green\"\n",
    "        self.ball_colour = \"brown\"\n",
    "        self.fig, self.ax = plt.subplots()\n",
    "        plt.close()\n",
    "\n",
    "\n",
    "    def _get_play_frame(self, frame_id):\n",
    "        return self.play_df.filter(pl.col(\"frameId\") == frame_id)\n",
    "    \n",
    "    def _create_team_colours_dict(self):\n",
    "        unique_teams = self.play_df.filter(pl.col(\"club\") != \"football\").select(pl.col(\"club\").unique()).sort(\"club\")\n",
    "        team_colours = {\n",
    "            unique_teams.item(0,0): self.colour1, \n",
    "            unique_teams.item(1,0): self.colour2,\n",
    "            \"football\": self.ball_colour\n",
    "        }\n",
    "        return team_colours\n",
    "    \n",
    "    def _plot_field(self):\n",
    "        pass\n",
    "\n",
    "    def _plot_players_for_frame(self, frame_id):\n",
    "        pass\n",
    "\n",
    "    def plot_frame(self, frame_id):\n",
    "        pass\n",
    "\n",
    "\n",
    "class PlotPlayHorizontal(PlotPlay):\n",
    "    def __init__(self, play_df):\n",
    "        super().__init__(play_df)\n",
    "    \n",
    "    def _plot_field(self):\n",
    "        \n",
    "        # Create limits\n",
    "        self.ax.set_xlim(self.min_x - 10, self.max_x + 10)\n",
    "        self.ax.set_ylim(self.min_y - 10, self.max_y + 10) \n",
    "\n",
    "        # Colour the endzones\n",
    "        endzone1 = patches.Rectangle((0,0), 10, 160/3, linewidth=1, edgecolor='darkviolet', facecolor='darkviolet')\n",
    "        endzone2 = patches.Rectangle((110,0), 10, 160/3, linewidth=1, edgecolor='darkviolet', facecolor='darkviolet')\n",
    "\n",
    "        self.ax.add_patch(endzone1)\n",
    "        self.ax.add_patch(endzone2)\n",
    "\n",
    "        # Draw field outline\n",
    "        self.ax.plot([0,120], [0,0], color=\"black\")\n",
    "        self.ax.plot([0,120], [160/3,160/3], color=\"black\")\n",
    "        self.ax.plot([0,0], [0,160/3], color=\"black\")\n",
    "        self.ax.plot([120,120], [0,160/3], color=\"black\")\n",
    "\n",
    "        # Draw yard lines\n",
    "        for x in range(10,115,5):\n",
    "            self.ax.plot([x,x], [0,160/3], color=\"black\")\n",
    "\n",
    "        # Draw hash marks\n",
    "        for x in range(10,110,1):\n",
    "            self.ax.plot([x,x], [160/6 - 3.0833 - 1, 160/6 - 3.0833], color=\"black\", linewidth=0.5)\n",
    "            self.ax.plot([x,x], [160/6 + 3.0833 + 1, 160/6 + 3.0833], color=\"black\", linewidth=0.5)\n",
    "            \n",
    "        # Draw the yard numbers\n",
    "        for x in range(10,50,10):\n",
    "            self.ax.text(x+10, 160/6 - 3.0833 - 12, str(x), fontsize=10, color=\"black\", ha='center')\n",
    "            self.ax.text(x+10, 160/6 + 3.0833 + 12, str(x), fontsize=10, color=\"black\", ha='center')\n",
    "            self.ax.text(110-x, 160/6 - 3.0833 - 12, str(x), fontsize=10, color=\"black\", ha='center')\n",
    "            self.ax.text(110-x, 160/6 + 3.0833 + 12, str(x), fontsize=10, color=\"black\", ha='center')\n",
    "        self.ax.text(60, 160/6 - 3.0833 - 12, \"50\", fontsize=10, color=\"black\", ha='center')\n",
    "        self.ax.text(60, 160/6 + 3.0833 + 12, \"50\", fontsize=10, color=\"black\", ha='center')\n",
    "\n",
    "        self.ax.axis('off')\n",
    "\n",
    "    def _plot_players_for_frame(self, frame_id):\n",
    "        # Get the frame df\n",
    "        frame_df = self._get_play_frame(frame_id)\n",
    "\n",
    "        # Add the players\n",
    "        players = frame_df.filter(pl.col(\"club\") != \"football\")\n",
    "        football = frame_df.filter(pl.col(\"club\") == \"football\")\n",
    "\n",
    "        team_colours = self._create_team_colours_dict()\n",
    "        \n",
    "        players = players.with_columns(\n",
    "            colours=pl.col(\"club\").replace(team_colours)\n",
    "        )\n",
    "\n",
    "        for row in players.iter_rows(named=True):\n",
    "            self.ax.scatter(row[\"x\"], row[\"y\"], color=row[\"colours\"], s=75, zorder=3)\n",
    "            self.ax.text(row[\"x\"], row[\"y\"], row[\"jerseyNumber\"], fontsize=8, ha='center', va='center', zorder=4)\n",
    "\n",
    "        # Plot the ball\n",
    "        self.ax.scatter(football[\"x\"][0], football[\"y\"][0], color=\"brown\", s=50, zorder=3)\n",
    "\n",
    "    def plot_frame(self, frame_id):\n",
    "        # Reset the figure\n",
    "        self.fig, self.ax = plt.subplots()\n",
    "        plt.close()\n",
    "\n",
    "        self._plot_field()\n",
    "        self._plot_players_for_frame(frame_id)\n",
    "        self.fig.show()\n",
    "        return self.fig         \n",
    "\n",
    "class PlotPlayFrameVertical(PlotPlay):\n",
    "    def __init__(self, play_df):\n",
    "        super().__init__(play_df)\n",
    "    \n",
    "    def _plot_field(self):\n",
    "        # Create limits\n",
    "        self.ax.set_xlim(MIN_Y - 10, MAX_Y + 10)\n",
    "        self.ax.set_ylim(MIN_X - 10, MAX_X + 10) \n",
    "\n",
    "        # Colour the endzones\n",
    "        endzone1 = patches.Rectangle((0,0), 160/3, 10, linewidth=1, edgecolor='darkviolet', facecolor='darkviolet')\n",
    "        endzone2 = patches.Rectangle((0,110), 160/3, 10, linewidth=1, edgecolor='darkviolet', facecolor='darkviolet')\n",
    "\n",
    "        self.ax.add_patch(endzone1)\n",
    "        self.ax.add_patch(endzone2)\n",
    "\n",
    "        # Draw field outline\n",
    "        self.ax.plot([0,0], [0,120], color=\"black\")\n",
    "        self.ax.plot([0,160/3], [0, 0], color=\"black\")\n",
    "        self.ax.plot([160/3,0], [120, 120], color=\"black\")\n",
    "        self.ax.plot([160/3,160/3], [120,0], color=\"black\")\n",
    "\n",
    "        # Draw yard lines\n",
    "        for y in range(10,115,5):\n",
    "            self.ax.plot([0,160/3], [y,y], color=\"black\")\n",
    "\n",
    "        # Draw hash marks\n",
    "        for y in range(10,110,1):\n",
    "            self.ax.plot([160/6 - 3.0833 - 1, 160/6 - 3.0833], [y,y], color=\"black\", linewidth=0.5)\n",
    "            self.ax.plot([160/6 + 3.0833 + 1, 160/6 + 3.0833], [y,y], color=\"black\", linewidth=0.5)\n",
    "            \n",
    "        # Draw the yard numbers\n",
    "        for y in range(10,50,10):\n",
    "            self.ax.text(160/6 - 3.0833 - 12, y+10, str(y), fontsize=10, color=\"black\", ha='right', va=\"center\", rotation=-90)\n",
    "            self.ax.text(160/6 + 3.0833 + 12, y+10, str(y), fontsize=10, color=\"black\", ha='left', va=\"center\", rotation=90)\n",
    "            self.ax.text(160/6 - 3.0833 - 12, 110-y, str(y), fontsize=10, color=\"black\", ha='right', va=\"center\", rotation=-90)\n",
    "            self.ax.text(160/6 + 3.0833 + 12, 110-y, str(y), fontsize=10, color=\"black\", ha='left',va=\"center\", rotation=90)\n",
    "        self.ax.text(160/6 - 3.0833 - 12, 60, \"50\", fontsize=10, color=\"black\", ha='right', va=\"center\", rotation=-90)\n",
    "        self.ax.text(160/6 + 3.0833 + 12, 60, \"50\", fontsize=10, color=\"black\", ha='left', va=\"center\", rotation=90)\n",
    "\n",
    "        self.ax.axis('off')\n",
    "\n",
    "    def _plot_players_for_frame(self, frame_id):\n",
    "        # Get the frame df\n",
    "        frame_df = self._get_play_frame(frame_id)\n",
    "\n",
    "        # Add the players\n",
    "        players = frame_df.filter(pl.col(\"club\") != \"football\")\n",
    "        football = frame_df.filter(pl.col(\"club\") == \"football\")\n",
    "\n",
    "        team_colours = self._create_team_colours_dict()\n",
    "        \n",
    "        players = players.with_columns(\n",
    "            colours=pl.col(\"club\").replace(team_colours)\n",
    "        )\n",
    "\n",
    "        for row in players.iter_rows(named=True):\n",
    "            self.ax.scatter(row[\"y\"], row[\"x\"], color=row[\"colours\"], s=75, zorder=3)\n",
    "            self.ax.text(row[\"y\"], row[\"x\"], row[\"jerseyNumber\"], fontsize=8, ha='center', va='center', zorder=4, clip_on=True)\n",
    "\n",
    "        # Plot the football\n",
    "        self.ax.scatter(football[\"y\"][0], football[\"x\"][0], color=\"brown\", s=50, zorder=3)\n",
    "\n",
    "\n",
    "    def plot_frame(self, frame_id):\n",
    "        # Reset the figure\n",
    "        self.fig, self.ax = plt.subplots()\n",
    "        plt.close()\n",
    "\n",
    "        self._plot_field()\n",
    "        self._plot_players_for_frame(frame_id)\n",
    "        self.fig.show()\n",
    "        return self.fig    \n",
    "    "
   ]
  },
  {
   "cell_type": "code",
   "execution_count": 82,
   "metadata": {},
   "outputs": [],
   "source": [
    "animated_class = PlotPlayHorizontal(sample_play)"
   ]
  },
  {
   "cell_type": "code",
   "execution_count": 86,
   "metadata": {},
   "outputs": [
    {
     "data": {
      "image/png": "[encoded data removed]",
      "text/plain": [
       "<Figure size 640x480 with 1 Axes>"
      ]
     },
     "execution_count": 86,
     "metadata": {},
     "output_type": "execute_result"
    }
   ],
   "source": [
    "animated_class.plot_frame(120)"
   ]
  },
  {
   "cell_type": "code",
   "execution_count": 69,
   "metadata": {},
   "outputs": [],
   "source": [
    "vertical_class = PlotPlayVertical(sample_play)"
   ]
  },
  {
   "cell_type": "code",
   "execution_count": 70,
   "metadata": {},
   "outputs": [
    {
     "data": {
      "text/html": [
       "<div><style>\n",
       ".dataframe > thead > tr,\n",
       ".dataframe > tbody > tr {\n",
       "  text-align: right;\n",
       "  white-space: pre-wrap;\n",
       "}\n",
       "</style>\n",
       "<small>shape: (23, 18)</small><table border=\"1\" class=\"dataframe\"><thead><tr><th>gameId</th><th>playId</th><th>nflId</th><th>displayName</th><th>frameId</th><th>frameType</th><th>time</th><th>jerseyNumber</th><th>club</th><th>playDirection</th><th>x</th><th>y</th><th>s</th><th>a</th><th>dis</th><th>o</th><th>dir</th><th>event</th></tr><tr><td>i64</td><td>i64</td><td>i64</td><td>str</td><td>i64</td><td>str</td><td>str</td><td>i64</td><td>str</td><td>str</td><td>f64</td><td>f64</td><td>f64</td><td>f64</td><td>f64</td><td>f64</td><td>f64</td><td>str</td></tr></thead><tbody><tr><td>2022091200</td><td>64</td><td>35459</td><td>&quot;Kareem Jackson&quot;</td><td>30</td><td>&quot;BEFORE_SNAP&quot;</td><td>&quot;2022-09-13 00:16:06.4&quot;</td><td>22</td><td>&quot;DEN&quot;</td><td>&quot;right&quot;</td><td>52.19</td><td>28.94</td><td>0.05</td><td>0.56</td><td>0.01</td><td>231.72</td><td>96.9</td><td>&quot;NA&quot;</td></tr><tr><td>2022091200</td><td>64</td><td>39987</td><td>&quot;Geno Smith&quot;</td><td>30</td><td>&quot;BEFORE_SNAP&quot;</td><td>&quot;2022-09-13 00:16:06.4&quot;</td><td>7</td><td>&quot;SEA&quot;</td><td>&quot;right&quot;</td><td>34.97</td><td>23.87</td><td>0.67</td><td>0.38</td><td>0.07</td><td>86.94</td><td>67.88</td><td>&quot;NA&quot;</td></tr><tr><td>2022091200</td><td>64</td><td>41310</td><td>&quot;Gabe Jackson&quot;</td><td>30</td><td>&quot;BEFORE_SNAP&quot;</td><td>&quot;2022-09-13 00:16:06.4&quot;</td><td>66</td><td>&quot;SEA&quot;</td><td>&quot;right&quot;</td><td>38.6</td><td>22.37</td><td>0.29</td><td>0.78</td><td>0.03</td><td>85.7</td><td>81.48</td><td>&quot;NA&quot;</td></tr><tr><td>2022091200</td><td>64</td><td>42393</td><td>&quot;Ronald Darby&quot;</td><td>30</td><td>&quot;BEFORE_SNAP&quot;</td><td>&quot;2022-09-13 00:16:06.4&quot;</td><td>23</td><td>&quot;DEN&quot;</td><td>&quot;right&quot;</td><td>45.05</td><td>15.36</td><td>1.64</td><td>1.25</td><td>0.17</td><td>278.52</td><td>171.25</td><td>&quot;NA&quot;</td></tr><tr><td>2022091200</td><td>64</td><td>42403</td><td>&quot;Randy Gregory&quot;</td><td>30</td><td>&quot;BEFORE_SNAP&quot;</td><td>&quot;2022-09-13 00:16:06.4&quot;</td><td>5</td><td>&quot;DEN&quot;</td><td>&quot;right&quot;</td><td>41.01</td><td>18.8</td><td>0.39</td><td>0.3</td><td>0.04</td><td>254.59</td><td>260.32</td><td>&quot;NA&quot;</td></tr><tr><td>&hellip;</td><td>&hellip;</td><td>&hellip;</td><td>&hellip;</td><td>&hellip;</td><td>&hellip;</td><td>&hellip;</td><td>&hellip;</td><td>&hellip;</td><td>&hellip;</td><td>&hellip;</td><td>&hellip;</td><td>&hellip;</td><td>&hellip;</td><td>&hellip;</td><td>&hellip;</td><td>&hellip;</td><td>&hellip;</td></tr><tr><td>2022091200</td><td>64</td><td>52706</td><td>&quot;Jonas Griffith&quot;</td><td>30</td><td>&quot;BEFORE_SNAP&quot;</td><td>&quot;2022-09-13 00:16:06.4&quot;</td><td>50</td><td>&quot;DEN&quot;</td><td>&quot;right&quot;</td><td>44.89</td><td>21.51</td><td>0.29</td><td>0.8</td><td>0.03</td><td>284.89</td><td>65.6</td><td>&quot;NA&quot;</td></tr><tr><td>2022091200</td><td>64</td><td>53438</td><td>&quot;Patrick Surtain&quot;</td><td>30</td><td>&quot;BEFORE_SNAP&quot;</td><td>&quot;2022-09-13 00:16:06.4&quot;</td><td>2</td><td>&quot;DEN&quot;</td><td>&quot;right&quot;</td><td>45.82</td><td>31.35</td><td>2.94</td><td>1.03</td><td>0.3</td><td>308.63</td><td>2.83</td><td>&quot;NA&quot;</td></tr><tr><td>2022091200</td><td>64</td><td>54474</td><td>&quot;Charles Cross&quot;</td><td>30</td><td>&quot;BEFORE_SNAP&quot;</td><td>&quot;2022-09-13 00:16:06.4&quot;</td><td>67</td><td>&quot;SEA&quot;</td><td>&quot;right&quot;</td><td>38.27</td><td>26.88</td><td>0.22</td><td>0.16</td><td>0.02</td><td>89.27</td><td>131.2</td><td>&quot;NA&quot;</td></tr><tr><td>2022091200</td><td>64</td><td>54537</td><td>&quot;Abraham Lucas&quot;</td><td>30</td><td>&quot;BEFORE_SNAP&quot;</td><td>&quot;2022-09-13 00:16:06.4&quot;</td><td>72</td><td>&quot;SEA&quot;</td><td>&quot;right&quot;</td><td>38.44</td><td>20.62</td><td>0.39</td><td>0.87</td><td>0.04</td><td>95.02</td><td>60.33</td><td>&quot;NA&quot;</td></tr><tr><td>2022091200</td><td>64</td><td>null</td><td>&quot;football&quot;</td><td>30</td><td>&quot;BEFORE_SNAP&quot;</td><td>&quot;2022-09-13 00:16:06.4&quot;</td><td>null</td><td>&quot;football&quot;</td><td>&quot;right&quot;</td><td>39.5</td><td>23.92</td><td>0.0</td><td>0.0</td><td>0.0</td><td>null</td><td>null</td><td>&quot;NA&quot;</td></tr></tbody></table></div>"
      ],
      "text/plain": [
       "shape: (23, 18)\n",
       "┌────────────┬────────┬───────┬─────────────────┬───┬──────┬────────┬────────┬───────┐\n",
       "│ gameId     ┆ playId ┆ nflId ┆ displayName     ┆ … ┆ dis  ┆ o      ┆ dir    ┆ event │\n",
       "│ ---        ┆ ---    ┆ ---   ┆ ---             ┆   ┆ ---  ┆ ---    ┆ ---    ┆ ---   │\n",
       "│ i64        ┆ i64    ┆ i64   ┆ str             ┆   ┆ f64  ┆ f64    ┆ f64    ┆ str   │\n",
       "╞════════════╪════════╪═══════╪═════════════════╪═══╪══════╪════════╪════════╪═══════╡\n",
       "│ 2022091200 ┆ 64     ┆ 35459 ┆ Kareem Jackson  ┆ … ┆ 0.01 ┆ 231.72 ┆ 96.9   ┆ NA    │\n",
       "│ 2022091200 ┆ 64     ┆ 39987 ┆ Geno Smith      ┆ … ┆ 0.07 ┆ 86.94  ┆ 67.88  ┆ NA    │\n",
       "│ 2022091200 ┆ 64     ┆ 41310 ┆ Gabe Jackson    ┆ … ┆ 0.03 ┆ 85.7   ┆ 81.48  ┆ NA    │\n",
       "│ 2022091200 ┆ 64     ┆ 42393 ┆ Ronald Darby    ┆ … ┆ 0.17 ┆ 278.52 ┆ 171.25 ┆ NA    │\n",
       "│ 2022091200 ┆ 64     ┆ 42403 ┆ Randy Gregory   ┆ … ┆ 0.04 ┆ 254.59 ┆ 260.32 ┆ NA    │\n",
       "│ …          ┆ …      ┆ …     ┆ …               ┆ … ┆ …    ┆ …      ┆ …      ┆ …     │\n",
       "│ 2022091200 ┆ 64     ┆ 52706 ┆ Jonas Griffith  ┆ … ┆ 0.03 ┆ 284.89 ┆ 65.6   ┆ NA    │\n",
       "│ 2022091200 ┆ 64     ┆ 53438 ┆ Patrick Surtain ┆ … ┆ 0.3  ┆ 308.63 ┆ 2.83   ┆ NA    │\n",
       "│ 2022091200 ┆ 64     ┆ 54474 ┆ Charles Cross   ┆ … ┆ 0.02 ┆ 89.27  ┆ 131.2  ┆ NA    │\n",
       "│ 2022091200 ┆ 64     ┆ 54537 ┆ Abraham Lucas   ┆ … ┆ 0.04 ┆ 95.02  ┆ 60.33  ┆ NA    │\n",
       "│ 2022091200 ┆ 64     ┆ null  ┆ football        ┆ … ┆ 0.0  ┆ null   ┆ null   ┆ NA    │\n",
       "└────────────┴────────┴───────┴─────────────────┴───┴──────┴────────┴────────┴───────┘"
      ]
     },
     "execution_count": 70,
     "metadata": {},
     "output_type": "execute_result"
    }
   ],
   "source": [
    "data"
   ]
  },
  {
   "cell_type": "code",
   "execution_count": null,
   "metadata": {},
   "outputs": [],
   "source": []
  }
 ],
 "metadata": {
  "kernelspec": {
   "display_name": ".venv",
   "language": "python",
   "name": "python3"
  },
  "language_info": {
   "codemirror_mode": {
    "name": "ipython",
    "version": 3
   },
   "file_extension": ".py",
   "mimetype": "text/x-python",
   "name": "python",
   "nbconvert_exporter": "python",
   "pygments_lexer": "ipython3",
   "version": "3.12.1"
  }
 },
 "nbformat": 4,
 "nbformat_minor": 2
}
