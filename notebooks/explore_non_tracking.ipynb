{
 "cells": [
  {
   "cell_type": "code",
   "execution_count": 1,
   "metadata": {},
   "outputs": [],
   "source": [
    "import polars as pl"
   ]
  },
  {
   "cell_type": "markdown",
   "metadata": {},
   "source": [
    "# Games df"
   ]
  },
  {
   "cell_type": "code",
   "execution_count": 3,
   "metadata": {},
   "outputs": [
    {
     "data": {
      "text/html": [
       "<div><style>\n",
       ".dataframe > thead > tr,\n",
       ".dataframe > tbody > tr {\n",
       "  text-align: right;\n",
       "  white-space: pre-wrap;\n",
       "}\n",
       "</style>\n",
       "<small>shape: (5, 9)</small><table border=\"1\" class=\"dataframe\"><thead><tr><th>gameId</th><th>season</th><th>week</th><th>gameDate</th><th>gameTimeEastern</th><th>homeTeamAbbr</th><th>visitorTeamAbbr</th><th>homeFinalScore</th><th>visitorFinalScore</th></tr><tr><td>i64</td><td>i64</td><td>i64</td><td>str</td><td>str</td><td>str</td><td>str</td><td>i64</td><td>i64</td></tr></thead><tbody><tr><td>2022090800</td><td>2022</td><td>1</td><td>&quot;9/8/2022&quot;</td><td>&quot;20:20:00&quot;</td><td>&quot;LA&quot;</td><td>&quot;BUF&quot;</td><td>10</td><td>31</td></tr><tr><td>2022091100</td><td>2022</td><td>1</td><td>&quot;9/11/2022&quot;</td><td>&quot;13:00:00&quot;</td><td>&quot;ATL&quot;</td><td>&quot;NO&quot;</td><td>26</td><td>27</td></tr><tr><td>2022091101</td><td>2022</td><td>1</td><td>&quot;9/11/2022&quot;</td><td>&quot;13:00:00&quot;</td><td>&quot;CAR&quot;</td><td>&quot;CLE&quot;</td><td>24</td><td>26</td></tr><tr><td>2022091102</td><td>2022</td><td>1</td><td>&quot;9/11/2022&quot;</td><td>&quot;13:00:00&quot;</td><td>&quot;CHI&quot;</td><td>&quot;SF&quot;</td><td>19</td><td>10</td></tr><tr><td>2022091103</td><td>2022</td><td>1</td><td>&quot;9/11/2022&quot;</td><td>&quot;13:00:00&quot;</td><td>&quot;CIN&quot;</td><td>&quot;PIT&quot;</td><td>20</td><td>23</td></tr></tbody></table></div>"
      ],
      "text/plain": [
       "shape: (5, 9)\n",
       "┌────────────┬────────┬──────┬───────────┬───┬─────────────┬─────────────┬────────────┬────────────┐\n",
       "│ gameId     ┆ season ┆ week ┆ gameDate  ┆ … ┆ homeTeamAbb ┆ visitorTeam ┆ homeFinalS ┆ visitorFin │\n",
       "│ ---        ┆ ---    ┆ ---  ┆ ---       ┆   ┆ r           ┆ Abbr        ┆ core       ┆ alScore    │\n",
       "│ i64        ┆ i64    ┆ i64  ┆ str       ┆   ┆ ---         ┆ ---         ┆ ---        ┆ ---        │\n",
       "│            ┆        ┆      ┆           ┆   ┆ str         ┆ str         ┆ i64        ┆ i64        │\n",
       "╞════════════╪════════╪══════╪═══════════╪═══╪═════════════╪═════════════╪════════════╪════════════╡\n",
       "│ 2022090800 ┆ 2022   ┆ 1    ┆ 9/8/2022  ┆ … ┆ LA          ┆ BUF         ┆ 10         ┆ 31         │\n",
       "│ 2022091100 ┆ 2022   ┆ 1    ┆ 9/11/2022 ┆ … ┆ ATL         ┆ NO          ┆ 26         ┆ 27         │\n",
       "│ 2022091101 ┆ 2022   ┆ 1    ┆ 9/11/2022 ┆ … ┆ CAR         ┆ CLE         ┆ 24         ┆ 26         │\n",
       "│ 2022091102 ┆ 2022   ┆ 1    ┆ 9/11/2022 ┆ … ┆ CHI         ┆ SF          ┆ 19         ┆ 10         │\n",
       "│ 2022091103 ┆ 2022   ┆ 1    ┆ 9/11/2022 ┆ … ┆ CIN         ┆ PIT         ┆ 20         ┆ 23         │\n",
       "└────────────┴────────┴──────┴───────────┴───┴─────────────┴─────────────┴────────────┴────────────┘"
      ]
     },
     "execution_count": 3,
     "metadata": {},
     "output_type": "execute_result"
    }
   ],
   "source": [
    "GAMES_DF_FILEPATH = \"../data/games.csv\"\n",
    "\n",
    "games_df = pl.scan_csv(GAMES_DF_FILEPATH)\n",
    "games_df.collect().head(5)"
   ]
  },
  {
   "cell_type": "markdown",
   "metadata": {},
   "source": [
    "# Plays df"
   ]
  },
  {
   "cell_type": "code",
   "execution_count": 5,
   "metadata": {},
   "outputs": [
    {
     "data": {
      "text/html": [
       "<div><style>\n",
       ".dataframe > thead > tr,\n",
       ".dataframe > tbody > tr {\n",
       "  text-align: right;\n",
       "  white-space: pre-wrap;\n",
       "}\n",
       "</style>\n",
       "<small>shape: (5, 50)</small><table border=\"1\" class=\"dataframe\"><thead><tr><th>gameId</th><th>playId</th><th>playDescription</th><th>quarter</th><th>down</th><th>yardsToGo</th><th>possessionTeam</th><th>defensiveTeam</th><th>yardlineSide</th><th>yardlineNumber</th><th>gameClock</th><th>preSnapHomeScore</th><th>preSnapVisitorScore</th><th>playNullifiedByPenalty</th><th>absoluteYardlineNumber</th><th>preSnapHomeTeamWinProbability</th><th>preSnapVisitorTeamWinProbability</th><th>expectedPoints</th><th>offenseFormation</th><th>receiverAlignment</th><th>playClockAtSnap</th><th>passResult</th><th>passLength</th><th>targetX</th><th>targetY</th><th>playAction</th><th>dropbackType</th><th>dropbackDistance</th><th>passLocationType</th><th>timeToThrow</th><th>timeInTackleBox</th><th>timeToSack</th><th>passTippedAtLine</th><th>unblockedPressure</th><th>qbSpike</th><th>qbKneel</th><th>qbSneak</th><th>rushLocationType</th><th>penaltyYards</th><th>prePenaltyYardsGained</th><th>yardsGained</th><th>homeTeamWinProbabilityAdded</th><th>visitorTeamWinProbilityAdded</th><th>expectedPointsAdded</th><th>isDropback</th><th>pff_runConceptPrimary</th><th>pff_runConceptSecondary</th><th>pff_runPassOption</th><th>pff_passCoverage</th><th>pff_manZone</th></tr><tr><td>i64</td><td>i64</td><td>str</td><td>i64</td><td>i64</td><td>i64</td><td>str</td><td>str</td><td>str</td><td>i64</td><td>str</td><td>i64</td><td>i64</td><td>str</td><td>i64</td><td>f64</td><td>f64</td><td>f64</td><td>str</td><td>str</td><td>i64</td><td>str</td><td>str</td><td>str</td><td>str</td><td>bool</td><td>str</td><td>str</td><td>str</td><td>str</td><td>str</td><td>str</td><td>str</td><td>str</td><td>str</td><td>i64</td><td>str</td><td>str</td><td>str</td><td>i64</td><td>i64</td><td>f64</td><td>f64</td><td>f64</td><td>bool</td><td>str</td><td>str</td><td>i64</td><td>str</td><td>str</td></tr></thead><tbody><tr><td>2022102302</td><td>2655</td><td>&quot;(1:54) (Shotgun) J.Burrow pass…</td><td>3</td><td>1</td><td>10</td><td>&quot;CIN&quot;</td><td>&quot;ATL&quot;</td><td>&quot;CIN&quot;</td><td>21</td><td>&quot;01:54&quot;</td><td>35</td><td>17</td><td>&quot;N&quot;</td><td>31</td><td>0.982017</td><td>0.017983</td><td>0.719313</td><td>&quot;EMPTY&quot;</td><td>&quot;3x2&quot;</td><td>10</td><td>&quot;C&quot;</td><td>&quot;6&quot;</td><td>&quot;36.69&quot;</td><td>&quot;16.51&quot;</td><td>false</td><td>&quot;TRADITIONAL&quot;</td><td>&quot;2.40000009536743&quot;</td><td>&quot;INSIDE_BOX&quot;</td><td>&quot;2.99&quot;</td><td>&quot;2.99000000953674&quot;</td><td>&quot;NA&quot;</td><td>&quot;FALSE&quot;</td><td>&quot;FALSE&quot;</td><td>&quot;FALSE&quot;</td><td>0</td><td>&quot;NA&quot;</td><td>&quot;NA&quot;</td><td>&quot;NA&quot;</td><td>9</td><td>9</td><td>0.004634</td><td>-0.004634</td><td>0.702717</td><td>true</td><td>&quot;NA&quot;</td><td>&quot;NA&quot;</td><td>0</td><td>&quot;Cover-3&quot;</td><td>&quot;Zone&quot;</td></tr><tr><td>2022091809</td><td>3698</td><td>&quot;(2:13) (Shotgun) J.Burrow pass…</td><td>4</td><td>1</td><td>10</td><td>&quot;CIN&quot;</td><td>&quot;DAL&quot;</td><td>&quot;CIN&quot;</td><td>8</td><td>&quot;02:13&quot;</td><td>17</td><td>17</td><td>&quot;N&quot;</td><td>18</td><td>0.424356</td><td>0.575644</td><td>0.607746</td><td>&quot;EMPTY&quot;</td><td>&quot;3x2&quot;</td><td>9</td><td>&quot;C&quot;</td><td>&quot;4&quot;</td><td>&quot;20.83&quot;</td><td>&quot;20.49&quot;</td><td>false</td><td>&quot;TRADITIONAL&quot;</td><td>&quot;1.13999998569489&quot;</td><td>&quot;INSIDE_BOX&quot;</td><td>&quot;1.836&quot;</td><td>&quot;1.83599996566772&quot;</td><td>&quot;NA&quot;</td><td>&quot;FALSE&quot;</td><td>&quot;FALSE&quot;</td><td>&quot;FALSE&quot;</td><td>0</td><td>&quot;NA&quot;</td><td>&quot;NA&quot;</td><td>&quot;NA&quot;</td><td>4</td><td>4</td><td>0.002847</td><td>-0.002847</td><td>-0.240509</td><td>true</td><td>&quot;NA&quot;</td><td>&quot;NA&quot;</td><td>0</td><td>&quot;Quarters&quot;</td><td>&quot;Zone&quot;</td></tr><tr><td>2022103004</td><td>3146</td><td>&quot;(2:00) (Shotgun) D.Mills pass …</td><td>4</td><td>3</td><td>12</td><td>&quot;HOU&quot;</td><td>&quot;TEN&quot;</td><td>&quot;HOU&quot;</td><td>20</td><td>&quot;02:00&quot;</td><td>3</td><td>17</td><td>&quot;N&quot;</td><td>30</td><td>0.006291</td><td>0.993709</td><td>-0.291485</td><td>&quot;SHOTGUN&quot;</td><td>&quot;2x2&quot;</td><td>12</td><td>&quot;C&quot;</td><td>&quot;-4&quot;</td><td>&quot;26.02&quot;</td><td>&quot;17.56&quot;</td><td>false</td><td>&quot;TRADITIONAL&quot;</td><td>&quot;3.20000004768372&quot;</td><td>&quot;INSIDE_BOX&quot;</td><td>&quot;2.236&quot;</td><td>&quot;2.23600006103516&quot;</td><td>&quot;NA&quot;</td><td>&quot;FALSE&quot;</td><td>&quot;FALSE&quot;</td><td>&quot;FALSE&quot;</td><td>0</td><td>&quot;NA&quot;</td><td>&quot;NA&quot;</td><td>&quot;NA&quot;</td><td>6</td><td>6</td><td>0.000205</td><td>-0.000205</td><td>-0.21848</td><td>true</td><td>&quot;NA&quot;</td><td>&quot;NA&quot;</td><td>0</td><td>&quot;Quarters&quot;</td><td>&quot;Zone&quot;</td></tr><tr><td>2022110610</td><td>348</td><td>&quot;(9:28) (Shotgun) P.Mahomes pas…</td><td>1</td><td>2</td><td>10</td><td>&quot;KC&quot;</td><td>&quot;TEN&quot;</td><td>&quot;TEN&quot;</td><td>23</td><td>&quot;09:28&quot;</td><td>0</td><td>0</td><td>&quot;N&quot;</td><td>33</td><td>0.884223</td><td>0.115777</td><td>4.249382</td><td>&quot;SHOTGUN&quot;</td><td>&quot;2x2&quot;</td><td>11</td><td>&quot;C&quot;</td><td>&quot;-6&quot;</td><td>&quot;38.95&quot;</td><td>&quot;14.19&quot;</td><td>false</td><td>&quot;TRADITIONAL&quot;</td><td>&quot;3.01999998092651&quot;</td><td>&quot;INSIDE_BOX&quot;</td><td>&quot;2.202&quot;</td><td>&quot;2.20199990272522&quot;</td><td>&quot;NA&quot;</td><td>&quot;FALSE&quot;</td><td>&quot;FALSE&quot;</td><td>&quot;FALSE&quot;</td><td>0</td><td>&quot;NA&quot;</td><td>&quot;NA&quot;</td><td>&quot;NA&quot;</td><td>4</td><td>4</td><td>-0.001308</td><td>0.001308</td><td>-0.427749</td><td>true</td><td>&quot;NA&quot;</td><td>&quot;NA&quot;</td><td>0</td><td>&quot;Quarters&quot;</td><td>&quot;Zone&quot;</td></tr><tr><td>2022102700</td><td>2799</td><td>&quot;(2:16) (Shotgun) L.Jackson up …</td><td>3</td><td>2</td><td>8</td><td>&quot;BAL&quot;</td><td>&quot;TB&quot;</td><td>&quot;TB&quot;</td><td>27</td><td>&quot;02:16&quot;</td><td>10</td><td>10</td><td>&quot;N&quot;</td><td>37</td><td>0.410371</td><td>0.589629</td><td>3.928413</td><td>&quot;PISTOL&quot;</td><td>&quot;3x1&quot;</td><td>8</td><td>&quot;&quot;</td><td>&quot;NA&quot;</td><td>&quot;NA&quot;</td><td>&quot;NA&quot;</td><td>true</td><td>&quot;DESIGNED_RUN&quot;</td><td>&quot;2.02999997138977&quot;</td><td>&quot;NA&quot;</td><td>&quot;NA&quot;</td><td>&quot;NA&quot;</td><td>&quot;NA&quot;</td><td>&quot;NA&quot;</td><td>&quot;NA&quot;</td><td>&quot;NA&quot;</td><td>0</td><td>&quot;FALSE&quot;</td><td>&quot;INSIDE_LEFT&quot;</td><td>&quot;NA&quot;</td><td>-1</td><td>-1</td><td>0.027141</td><td>-0.027141</td><td>-0.638912</td><td>false</td><td>&quot;MAN&quot;</td><td>&quot;READ OPTION&quot;</td><td>0</td><td>&quot;Cover-1&quot;</td><td>&quot;Man&quot;</td></tr></tbody></table></div>"
      ],
      "text/plain": [
       "shape: (5, 50)\n",
       "┌────────────┬────────┬────────────┬─────────┬───┬────────────┬────────────┬───────────┬───────────┐\n",
       "│ gameId     ┆ playId ┆ playDescri ┆ quarter ┆ … ┆ pff_runCon ┆ pff_runPas ┆ pff_passC ┆ pff_manZo │\n",
       "│ ---        ┆ ---    ┆ ption      ┆ ---     ┆   ┆ ceptSecond ┆ sOption    ┆ overage   ┆ ne        │\n",
       "│ i64        ┆ i64    ┆ ---        ┆ i64     ┆   ┆ ary        ┆ ---        ┆ ---       ┆ ---       │\n",
       "│            ┆        ┆ str        ┆         ┆   ┆ ---        ┆ i64        ┆ str       ┆ str       │\n",
       "│            ┆        ┆            ┆         ┆   ┆ str        ┆            ┆           ┆           │\n",
       "╞════════════╪════════╪════════════╪═════════╪═══╪════════════╪════════════╪═══════════╪═══════════╡\n",
       "│ 2022102302 ┆ 2655   ┆ (1:54)     ┆ 3       ┆ … ┆ NA         ┆ 0          ┆ Cover-3   ┆ Zone      │\n",
       "│            ┆        ┆ (Shotgun)  ┆         ┆   ┆            ┆            ┆           ┆           │\n",
       "│            ┆        ┆ J.Burrow   ┆         ┆   ┆            ┆            ┆           ┆           │\n",
       "│            ┆        ┆ pass…      ┆         ┆   ┆            ┆            ┆           ┆           │\n",
       "│ 2022091809 ┆ 3698   ┆ (2:13)     ┆ 4       ┆ … ┆ NA         ┆ 0          ┆ Quarters  ┆ Zone      │\n",
       "│            ┆        ┆ (Shotgun)  ┆         ┆   ┆            ┆            ┆           ┆           │\n",
       "│            ┆        ┆ J.Burrow   ┆         ┆   ┆            ┆            ┆           ┆           │\n",
       "│            ┆        ┆ pass…      ┆         ┆   ┆            ┆            ┆           ┆           │\n",
       "│ 2022103004 ┆ 3146   ┆ (2:00)     ┆ 4       ┆ … ┆ NA         ┆ 0          ┆ Quarters  ┆ Zone      │\n",
       "│            ┆        ┆ (Shotgun)  ┆         ┆   ┆            ┆            ┆           ┆           │\n",
       "│            ┆        ┆ D.Mills    ┆         ┆   ┆            ┆            ┆           ┆           │\n",
       "│            ┆        ┆ pass …     ┆         ┆   ┆            ┆            ┆           ┆           │\n",
       "│ 2022110610 ┆ 348    ┆ (9:28)     ┆ 1       ┆ … ┆ NA         ┆ 0          ┆ Quarters  ┆ Zone      │\n",
       "│            ┆        ┆ (Shotgun)  ┆         ┆   ┆            ┆            ┆           ┆           │\n",
       "│            ┆        ┆ P.Mahomes  ┆         ┆   ┆            ┆            ┆           ┆           │\n",
       "│            ┆        ┆ pas…       ┆         ┆   ┆            ┆            ┆           ┆           │\n",
       "│ 2022102700 ┆ 2799   ┆ (2:16)     ┆ 3       ┆ … ┆ READ       ┆ 0          ┆ Cover-1   ┆ Man       │\n",
       "│            ┆        ┆ (Shotgun)  ┆         ┆   ┆ OPTION     ┆            ┆           ┆           │\n",
       "│            ┆        ┆ L.Jackson  ┆         ┆   ┆            ┆            ┆           ┆           │\n",
       "│            ┆        ┆ up …       ┆         ┆   ┆            ┆            ┆           ┆           │\n",
       "└────────────┴────────┴────────────┴─────────┴───┴────────────┴────────────┴───────────┴───────────┘"
      ]
     },
     "execution_count": 5,
     "metadata": {},
     "output_type": "execute_result"
    }
   ],
   "source": [
    "PLAYS_DF_FILEPATH = \"../data/plays.csv\"\n",
    "\n",
    "plays_df = pl.scan_csv(PLAYS_DF_FILEPATH, ignore_errors=True)\n",
    "plays_df.collect().head(5)"
   ]
  },
  {
   "cell_type": "markdown",
   "metadata": {},
   "source": [
    "# Players df"
   ]
  },
  {
   "cell_type": "code",
   "execution_count": 6,
   "metadata": {},
   "outputs": [
    {
     "data": {
      "text/html": [
       "<div><style>\n",
       ".dataframe > thead > tr,\n",
       ".dataframe > tbody > tr {\n",
       "  text-align: right;\n",
       "  white-space: pre-wrap;\n",
       "}\n",
       "</style>\n",
       "<small>shape: (5, 7)</small><table border=\"1\" class=\"dataframe\"><thead><tr><th>nflId</th><th>height</th><th>weight</th><th>birthDate</th><th>collegeName</th><th>position</th><th>displayName</th></tr><tr><td>i64</td><td>str</td><td>i64</td><td>str</td><td>str</td><td>str</td><td>str</td></tr></thead><tbody><tr><td>25511</td><td>&quot;6-4&quot;</td><td>225</td><td>&quot;1977-08-03&quot;</td><td>&quot;Michigan&quot;</td><td>&quot;QB&quot;</td><td>&quot;Tom Brady&quot;</td></tr><tr><td>29550</td><td>&quot;6-4&quot;</td><td>328</td><td>&quot;1982-01-22&quot;</td><td>&quot;Arkansas&quot;</td><td>&quot;T&quot;</td><td>&quot;Jason Peters&quot;</td></tr><tr><td>29851</td><td>&quot;6-2&quot;</td><td>225</td><td>&quot;1983-12-02&quot;</td><td>&quot;California&quot;</td><td>&quot;QB&quot;</td><td>&quot;Aaron Rodgers&quot;</td></tr><tr><td>30842</td><td>&quot;6-6&quot;</td><td>267</td><td>&quot;1984-05-19&quot;</td><td>&quot;UCLA&quot;</td><td>&quot;TE&quot;</td><td>&quot;Marcedes Lewis&quot;</td></tr><tr><td>33084</td><td>&quot;6-4&quot;</td><td>217</td><td>&quot;1985-05-17&quot;</td><td>&quot;Boston College&quot;</td><td>&quot;QB&quot;</td><td>&quot;Matt Ryan&quot;</td></tr></tbody></table></div>"
      ],
      "text/plain": [
       "shape: (5, 7)\n",
       "┌───────┬────────┬────────┬────────────┬────────────────┬──────────┬────────────────┐\n",
       "│ nflId ┆ height ┆ weight ┆ birthDate  ┆ collegeName    ┆ position ┆ displayName    │\n",
       "│ ---   ┆ ---    ┆ ---    ┆ ---        ┆ ---            ┆ ---      ┆ ---            │\n",
       "│ i64   ┆ str    ┆ i64    ┆ str        ┆ str            ┆ str      ┆ str            │\n",
       "╞═══════╪════════╪════════╪════════════╪════════════════╪══════════╪════════════════╡\n",
       "│ 25511 ┆ 6-4    ┆ 225    ┆ 1977-08-03 ┆ Michigan       ┆ QB       ┆ Tom Brady      │\n",
       "│ 29550 ┆ 6-4    ┆ 328    ┆ 1982-01-22 ┆ Arkansas       ┆ T        ┆ Jason Peters   │\n",
       "│ 29851 ┆ 6-2    ┆ 225    ┆ 1983-12-02 ┆ California     ┆ QB       ┆ Aaron Rodgers  │\n",
       "│ 30842 ┆ 6-6    ┆ 267    ┆ 1984-05-19 ┆ UCLA           ┆ TE       ┆ Marcedes Lewis │\n",
       "│ 33084 ┆ 6-4    ┆ 217    ┆ 1985-05-17 ┆ Boston College ┆ QB       ┆ Matt Ryan      │\n",
       "└───────┴────────┴────────┴────────────┴────────────────┴──────────┴────────────────┘"
      ]
     },
     "execution_count": 6,
     "metadata": {},
     "output_type": "execute_result"
    }
   ],
   "source": [
    "PLAYERS_DF_FILEPATH = \"../data/players.csv\"\n",
    "\n",
    "players_df = pl.scan_csv(PLAYERS_DF_FILEPATH)\n",
    "players_df.collect().head(5)"
   ]
  },
  {
   "cell_type": "markdown",
   "metadata": {},
   "source": [
    "- I don't think this will be particularly useful - unless I need the player position"
   ]
  },
  {
   "cell_type": "markdown",
   "metadata": {},
   "source": [
    "# Player play df"
   ]
  },
  {
   "cell_type": "code",
   "execution_count": 8,
   "metadata": {},
   "outputs": [
    {
     "data": {
      "text/html": [
       "<div><style>\n",
       ".dataframe > thead > tr,\n",
       ".dataframe > tbody > tr {\n",
       "  text-align: right;\n",
       "  white-space: pre-wrap;\n",
       "}\n",
       "</style>\n",
       "<small>shape: (5, 50)</small><table border=\"1\" class=\"dataframe\"><thead><tr><th>gameId</th><th>playId</th><th>nflId</th><th>teamAbbr</th><th>hadRushAttempt</th><th>rushingYards</th><th>hadDropback</th><th>passingYards</th><th>sackYardsAsOffense</th><th>hadPassReception</th><th>receivingYards</th><th>wasTargettedReceiver</th><th>yardageGainedAfterTheCatch</th><th>fumbles</th><th>fumbleLost</th><th>fumbleOutOfBounds</th><th>assistedTackle</th><th>forcedFumbleAsDefense</th><th>halfSackYardsAsDefense</th><th>passDefensed</th><th>quarterbackHit</th><th>sackYardsAsDefense</th><th>safetyAsDefense</th><th>soloTackle</th><th>tackleAssist</th><th>tackleForALoss</th><th>tackleForALossYardage</th><th>hadInterception</th><th>interceptionYards</th><th>fumbleRecoveries</th><th>fumbleRecoveryYards</th><th>penaltyYards</th><th>penaltyNames</th><th>wasInitialPassRusher</th><th>causedPressure</th><th>timeToPressureAsPassRusher</th><th>getOffTimeAsPassRusher</th><th>inMotionAtBallSnap</th><th>shiftSinceLineset</th><th>motionSinceLineset</th><th>wasRunningRoute</th><th>routeRan</th><th>blockedPlayerNFLId1</th><th>blockedPlayerNFLId2</th><th>blockedPlayerNFLId3</th><th>pressureAllowedAsBlocker</th><th>timeToPressureAllowedAsBlocker</th><th>pff_defensiveCoverageAssignment</th><th>pff_primaryDefensiveCoverageMatchupNflId</th><th>pff_secondaryDefensiveCoverageMatchupNflId</th></tr><tr><td>i64</td><td>i64</td><td>i64</td><td>str</td><td>i64</td><td>i64</td><td>i64</td><td>i64</td><td>i64</td><td>i64</td><td>i64</td><td>i64</td><td>i64</td><td>i64</td><td>i64</td><td>i64</td><td>i64</td><td>i64</td><td>i64</td><td>i64</td><td>i64</td><td>i64</td><td>i64</td><td>i64</td><td>i64</td><td>i64</td><td>i64</td><td>i64</td><td>i64</td><td>i64</td><td>i64</td><td>i64</td><td>str</td><td>str</td><td>bool</td><td>str</td><td>str</td><td>str</td><td>str</td><td>str</td><td>str</td><td>str</td><td>str</td><td>str</td><td>str</td><td>str</td><td>str</td><td>str</td><td>str</td><td>str</td></tr></thead><tbody><tr><td>2022090800</td><td>56</td><td>35472</td><td>&quot;BUF&quot;</td><td>0</td><td>0</td><td>0</td><td>0</td><td>0</td><td>0</td><td>0</td><td>0</td><td>0</td><td>0</td><td>0</td><td>0</td><td>0</td><td>0</td><td>0</td><td>0</td><td>0</td><td>0</td><td>0</td><td>0</td><td>0</td><td>0</td><td>0</td><td>0</td><td>0</td><td>0</td><td>0</td><td>0</td><td>&quot;NA&quot;</td><td>&quot;NA&quot;</td><td>false</td><td>&quot;NA&quot;</td><td>&quot;NA&quot;</td><td>&quot;FALSE&quot;</td><td>&quot;FALSE&quot;</td><td>&quot;FALSE&quot;</td><td>&quot;NA&quot;</td><td>&quot;NA&quot;</td><td>&quot;47917&quot;</td><td>&quot;NA&quot;</td><td>&quot;NA&quot;</td><td>&quot;0&quot;</td><td>&quot;NA&quot;</td><td>&quot;NA&quot;</td><td>&quot;NA&quot;</td><td>&quot;NA&quot;</td></tr><tr><td>2022090800</td><td>56</td><td>42392</td><td>&quot;BUF&quot;</td><td>0</td><td>0</td><td>0</td><td>0</td><td>0</td><td>0</td><td>0</td><td>0</td><td>0</td><td>0</td><td>0</td><td>0</td><td>0</td><td>0</td><td>0</td><td>0</td><td>0</td><td>0</td><td>0</td><td>0</td><td>0</td><td>0</td><td>0</td><td>0</td><td>0</td><td>0</td><td>0</td><td>0</td><td>&quot;NA&quot;</td><td>&quot;NA&quot;</td><td>false</td><td>&quot;NA&quot;</td><td>&quot;NA&quot;</td><td>&quot;FALSE&quot;</td><td>&quot;FALSE&quot;</td><td>&quot;FALSE&quot;</td><td>&quot;NA&quot;</td><td>&quot;NA&quot;</td><td>&quot;47917&quot;</td><td>&quot;NA&quot;</td><td>&quot;NA&quot;</td><td>&quot;0&quot;</td><td>&quot;NA&quot;</td><td>&quot;NA&quot;</td><td>&quot;NA&quot;</td><td>&quot;NA&quot;</td></tr><tr><td>2022090800</td><td>56</td><td>42489</td><td>&quot;BUF&quot;</td><td>0</td><td>0</td><td>0</td><td>0</td><td>0</td><td>1</td><td>6</td><td>1</td><td>1</td><td>0</td><td>0</td><td>0</td><td>0</td><td>0</td><td>0</td><td>0</td><td>0</td><td>0</td><td>0</td><td>0</td><td>0</td><td>0</td><td>0</td><td>0</td><td>0</td><td>0</td><td>0</td><td>0</td><td>&quot;NA&quot;</td><td>&quot;NA&quot;</td><td>false</td><td>&quot;NA&quot;</td><td>&quot;NA&quot;</td><td>&quot;FALSE&quot;</td><td>&quot;FALSE&quot;</td><td>&quot;TRUE&quot;</td><td>&quot;1&quot;</td><td>&quot;IN&quot;</td><td>&quot;NA&quot;</td><td>&quot;NA&quot;</td><td>&quot;NA&quot;</td><td>&quot;NA&quot;</td><td>&quot;NA&quot;</td><td>&quot;NA&quot;</td><td>&quot;NA&quot;</td><td>&quot;NA&quot;</td></tr><tr><td>2022090800</td><td>56</td><td>44875</td><td>&quot;BUF&quot;</td><td>0</td><td>0</td><td>0</td><td>0</td><td>0</td><td>0</td><td>0</td><td>0</td><td>0</td><td>0</td><td>0</td><td>0</td><td>0</td><td>0</td><td>0</td><td>0</td><td>0</td><td>0</td><td>0</td><td>0</td><td>0</td><td>0</td><td>0</td><td>0</td><td>0</td><td>0</td><td>0</td><td>0</td><td>&quot;NA&quot;</td><td>&quot;NA&quot;</td><td>false</td><td>&quot;NA&quot;</td><td>&quot;NA&quot;</td><td>&quot;FALSE&quot;</td><td>&quot;FALSE&quot;</td><td>&quot;FALSE&quot;</td><td>&quot;NA&quot;</td><td>&quot;NA&quot;</td><td>&quot;43335&quot;</td><td>&quot;NA&quot;</td><td>&quot;NA&quot;</td><td>&quot;0&quot;</td><td>&quot;NA&quot;</td><td>&quot;NA&quot;</td><td>&quot;NA&quot;</td><td>&quot;NA&quot;</td></tr><tr><td>2022090800</td><td>56</td><td>44985</td><td>&quot;BUF&quot;</td><td>0</td><td>0</td><td>0</td><td>0</td><td>0</td><td>0</td><td>0</td><td>0</td><td>0</td><td>0</td><td>0</td><td>0</td><td>0</td><td>0</td><td>0</td><td>0</td><td>0</td><td>0</td><td>0</td><td>0</td><td>0</td><td>0</td><td>0</td><td>0</td><td>0</td><td>0</td><td>0</td><td>0</td><td>&quot;NA&quot;</td><td>&quot;NA&quot;</td><td>false</td><td>&quot;NA&quot;</td><td>&quot;NA&quot;</td><td>&quot;FALSE&quot;</td><td>&quot;FALSE&quot;</td><td>&quot;FALSE&quot;</td><td>&quot;1&quot;</td><td>&quot;OUT&quot;</td><td>&quot;NA&quot;</td><td>&quot;NA&quot;</td><td>&quot;NA&quot;</td><td>&quot;NA&quot;</td><td>&quot;NA&quot;</td><td>&quot;NA&quot;</td><td>&quot;NA&quot;</td><td>&quot;NA&quot;</td></tr></tbody></table></div>"
      ],
      "text/plain": [
       "shape: (5, 50)\n",
       "┌────────────┬────────┬───────┬──────────┬───┬─────────────┬─────────────┬────────────┬────────────┐\n",
       "│ gameId     ┆ playId ┆ nflId ┆ teamAbbr ┆ … ┆ timeToPress ┆ pff_defensi ┆ pff_primar ┆ pff_second │\n",
       "│ ---        ┆ ---    ┆ ---   ┆ ---      ┆   ┆ ureAllowedA ┆ veCoverageA ┆ yDefensive ┆ aryDefensi │\n",
       "│ i64        ┆ i64    ┆ i64   ┆ str      ┆   ┆ sBlocker    ┆ ssignmen…   ┆ CoverageMa ┆ veCoverage │\n",
       "│            ┆        ┆       ┆          ┆   ┆ ---         ┆ ---         ┆ …          ┆ …          │\n",
       "│            ┆        ┆       ┆          ┆   ┆ str         ┆ str         ┆ ---        ┆ ---        │\n",
       "│            ┆        ┆       ┆          ┆   ┆             ┆             ┆ str        ┆ str        │\n",
       "╞════════════╪════════╪═══════╪══════════╪═══╪═════════════╪═════════════╪════════════╪════════════╡\n",
       "│ 2022090800 ┆ 56     ┆ 35472 ┆ BUF      ┆ … ┆ NA          ┆ NA          ┆ NA         ┆ NA         │\n",
       "│ 2022090800 ┆ 56     ┆ 42392 ┆ BUF      ┆ … ┆ NA          ┆ NA          ┆ NA         ┆ NA         │\n",
       "│ 2022090800 ┆ 56     ┆ 42489 ┆ BUF      ┆ … ┆ NA          ┆ NA          ┆ NA         ┆ NA         │\n",
       "│ 2022090800 ┆ 56     ┆ 44875 ┆ BUF      ┆ … ┆ NA          ┆ NA          ┆ NA         ┆ NA         │\n",
       "│ 2022090800 ┆ 56     ┆ 44985 ┆ BUF      ┆ … ┆ NA          ┆ NA          ┆ NA         ┆ NA         │\n",
       "└────────────┴────────┴───────┴──────────┴───┴─────────────┴─────────────┴────────────┴────────────┘"
      ]
     },
     "execution_count": 8,
     "metadata": {},
     "output_type": "execute_result"
    }
   ],
   "source": [
    "PLAYER_PLAY_DF = \"../data/player_play.csv\"\n",
    "\n",
    "player_plays_df = pl.scan_csv(PLAYER_PLAY_DF)\n",
    "player_plays_df.collect().head(5)"
   ]
  },
  {
   "cell_type": "markdown",
   "metadata": {},
   "source": [
    "- This contains the most helpful motion related data"
   ]
  },
  {
   "cell_type": "code",
   "execution_count": null,
   "metadata": {},
   "outputs": [],
   "source": []
  },
  {
   "cell_type": "markdown",
   "metadata": {},
   "source": [
    "# Summary\n",
    "In a preprocessing function/class: \n",
    "- Join the player play data, game data to the tracking data, to enrich it \n",
    "    - at a minimum, the offense/defense side, makes colours easier\n",
    "- Aggregate the player play data to get play level metrics (ie. motion on play)\n",
    "- Join games to plays to player play for 'complete metadata'"
   ]
  }
 ],
 "metadata": {
  "kernelspec": {
   "display_name": ".venv",
   "language": "python",
   "name": "python3"
  },
  "language_info": {
   "codemirror_mode": {
    "name": "ipython",
    "version": 3
   },
   "file_extension": ".py",
   "mimetype": "text/x-python",
   "name": "python",
   "nbconvert_exporter": "python",
   "pygments_lexer": "ipython3",
   "version": "3.12.1"
  }
 },
 "nbformat": 4,
 "nbformat_minor": 2
}
