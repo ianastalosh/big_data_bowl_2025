{
 "cells": [
  {
   "cell_type": "markdown",
   "metadata": {
    "vscode": {
     "languageId": "plaintext"
    }
   },
   "source": [
    "# BAIT - Baseline Assessment of \n",
    "Analysing how teams attempt to disguise and mislead defenses, based on their set-up.\n",
    "\n",
    "Note, you must run the `run_pass_prediction_model.ipynb` notebook first to obtain the `test_set_play_type_predicitons.csv` file, which this notebook uses."
   ]
  },
  {
   "cell_type": "markdown",
   "metadata": {},
   "source": []
  }
 ],
 "metadata": {
  "language_info": {
   "name": "python"
  }
 },
 "nbformat": 4,
 "nbformat_minor": 2
}
