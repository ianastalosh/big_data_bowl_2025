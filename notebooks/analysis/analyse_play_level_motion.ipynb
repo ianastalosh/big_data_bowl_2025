{
 "cells": [
  {
   "cell_type": "markdown",
   "metadata": {},
   "source": [
    "# Analyse play level motion\n",
    "Do EDA on the amount of motion plays, to better understand the data and understand what I might focus on. "
   ]
  },
  {
   "cell_type": "code",
   "execution_count": 1,
   "metadata": {},
   "outputs": [],
   "source": [
    "import sys\n",
    "import os\n",
    "import polars as pl\n",
    "\n",
    "current_dir = os.getcwd()\n",
    "sys.path.append(os.path.join(current_dir, \"../../\", 'src'))\n",
    "\n",
    "from config import Constants\n",
    "from preprocessing.tracking_data import TrackingDataProcessor\n",
    "from preprocessing.non_tracking_data import NonTrackingDataProcessor\n",
    "from preprocessing.preprocessing import BigDataBowlData\n",
    "from plotting.plotting import PlotPlayVertical\n",
    "\n",
    "GAMES_FILE = \"../../data/games.csv\"\n",
    "PLAYS_FILE = \"../../data/plays.csv\"\n",
    "PLAYERS_FILE = \"../../data/players.csv\"\n",
    "PLAYER_PLAYS_FILE = \"../../data/player_plays.csv\"\n",
    "\n",
    "TRACKING_FILES = [\"../../data/tracking_week_1.csv\"]"
   ]
  },
  {
   "cell_type": "code",
   "execution_count": 2,
   "metadata": {},
   "outputs": [],
   "source": [
    "data = BigDataBowlData(GAMES_FILE, \n",
    "                       PLAYS_FILE, \n",
    "                       PLAYERS_FILE, \n",
    "                       PLAYER_PLAYS_FILE, \n",
    "                       TRACKING_FILES)\n"
   ]
  },
  {
   "cell_type": "code",
   "execution_count": 4,
   "metadata": {},
   "outputs": [
    {
     "data": {
      "text/html": [
       "<div><style>\n",
       ".dataframe > thead > tr,\n",
       ".dataframe > tbody > tr {\n",
       "  text-align: right;\n",
       "  white-space: pre-wrap;\n",
       "}\n",
       "</style>\n",
       "<small>shape: (5, 18)</small><table border=\"1\" class=\"dataframe\"><thead><tr><th>gameId</th><th>playId</th><th>nflId</th><th>displayName</th><th>frameId</th><th>frameType</th><th>time</th><th>jerseyNumber</th><th>club</th><th>playDirection</th><th>x</th><th>y</th><th>s</th><th>a</th><th>dis</th><th>o</th><th>dir</th><th>event</th></tr><tr><td>i64</td><td>i64</td><td>i64</td><td>str</td><td>i64</td><td>str</td><td>str</td><td>i64</td><td>str</td><td>str</td><td>f64</td><td>f64</td><td>f64</td><td>f64</td><td>f64</td><td>f64</td><td>f64</td><td>str</td></tr></thead><tbody><tr><td>2022091200</td><td>64</td><td>35459</td><td>&quot;Kareem Jackson&quot;</td><td>1</td><td>&quot;BEFORE_SNAP&quot;</td><td>&quot;2022-09-13 00:16:03.5&quot;</td><td>22</td><td>&quot;DEN&quot;</td><td>&quot;right&quot;</td><td>51.06</td><td>28.55</td><td>0.72</td><td>0.37</td><td>0.07</td><td>246.17</td><td>68.34</td><td>&quot;huddle_break_offense&quot;</td></tr><tr><td>2022091200</td><td>64</td><td>35459</td><td>&quot;Kareem Jackson&quot;</td><td>2</td><td>&quot;BEFORE_SNAP&quot;</td><td>&quot;2022-09-13 00:16:03.6&quot;</td><td>22</td><td>&quot;DEN&quot;</td><td>&quot;right&quot;</td><td>51.13</td><td>28.57</td><td>0.71</td><td>0.36</td><td>0.07</td><td>245.41</td><td>71.21</td><td>&quot;NA&quot;</td></tr><tr><td>2022091200</td><td>64</td><td>35459</td><td>&quot;Kareem Jackson&quot;</td><td>3</td><td>&quot;BEFORE_SNAP&quot;</td><td>&quot;2022-09-13 00:16:03.7&quot;</td><td>22</td><td>&quot;DEN&quot;</td><td>&quot;right&quot;</td><td>51.2</td><td>28.59</td><td>0.69</td><td>0.23</td><td>0.07</td><td>244.45</td><td>69.9</td><td>&quot;NA&quot;</td></tr><tr><td>2022091200</td><td>64</td><td>35459</td><td>&quot;Kareem Jackson&quot;</td><td>4</td><td>&quot;BEFORE_SNAP&quot;</td><td>&quot;2022-09-13 00:16:03.8&quot;</td><td>22</td><td>&quot;DEN&quot;</td><td>&quot;right&quot;</td><td>51.26</td><td>28.62</td><td>0.67</td><td>0.22</td><td>0.07</td><td>244.45</td><td>67.98</td><td>&quot;NA&quot;</td></tr><tr><td>2022091200</td><td>64</td><td>35459</td><td>&quot;Kareem Jackson&quot;</td><td>5</td><td>&quot;BEFORE_SNAP&quot;</td><td>&quot;2022-09-13 00:16:03.9&quot;</td><td>22</td><td>&quot;DEN&quot;</td><td>&quot;right&quot;</td><td>51.32</td><td>28.65</td><td>0.65</td><td>0.34</td><td>0.07</td><td>245.74</td><td>62.83</td><td>&quot;NA&quot;</td></tr></tbody></table></div>"
      ],
      "text/plain": [
       "shape: (5, 18)\n",
       "┌────────────┬────────┬───────┬────────────────┬───┬──────┬────────┬───────┬──────────────────────┐\n",
       "│ gameId     ┆ playId ┆ nflId ┆ displayName    ┆ … ┆ dis  ┆ o      ┆ dir   ┆ event                │\n",
       "│ ---        ┆ ---    ┆ ---   ┆ ---            ┆   ┆ ---  ┆ ---    ┆ ---   ┆ ---                  │\n",
       "│ i64        ┆ i64    ┆ i64   ┆ str            ┆   ┆ f64  ┆ f64    ┆ f64   ┆ str                  │\n",
       "╞════════════╪════════╪═══════╪════════════════╪═══╪══════╪════════╪═══════╪══════════════════════╡\n",
       "│ 2022091200 ┆ 64     ┆ 35459 ┆ Kareem Jackson ┆ … ┆ 0.07 ┆ 246.17 ┆ 68.34 ┆ huddle_break_offense │\n",
       "│ 2022091200 ┆ 64     ┆ 35459 ┆ Kareem Jackson ┆ … ┆ 0.07 ┆ 245.41 ┆ 71.21 ┆ NA                   │\n",
       "│ 2022091200 ┆ 64     ┆ 35459 ┆ Kareem Jackson ┆ … ┆ 0.07 ┆ 244.45 ┆ 69.9  ┆ NA                   │\n",
       "│ 2022091200 ┆ 64     ┆ 35459 ┆ Kareem Jackson ┆ … ┆ 0.07 ┆ 244.45 ┆ 67.98 ┆ NA                   │\n",
       "│ 2022091200 ┆ 64     ┆ 35459 ┆ Kareem Jackson ┆ … ┆ 0.07 ┆ 245.74 ┆ 62.83 ┆ NA                   │\n",
       "└────────────┴────────┴───────┴────────────────┴───┴──────┴────────┴───────┴──────────────────────┘"
      ]
     },
     "execution_count": 4,
     "metadata": {},
     "output_type": "execute_result"
    }
   ],
   "source": [
    "data.tracking_data.head(5).collect()"
   ]
  },
  {
   "cell_type": "code",
   "execution_count": null,
   "metadata": {},
   "outputs": [],
   "source": []
  }
 ],
 "metadata": {
  "kernelspec": {
   "display_name": ".venv",
   "language": "python",
   "name": "python3"
  },
  "language_info": {
   "codemirror_mode": {
    "name": "ipython",
    "version": 3
   },
   "file_extension": ".py",
   "mimetype": "text/x-python",
   "name": "python",
   "nbconvert_exporter": "python",
   "pygments_lexer": "ipython3",
   "version": "3.12.1"
  }
 },
 "nbformat": 4,
 "nbformat_minor": 2
}
